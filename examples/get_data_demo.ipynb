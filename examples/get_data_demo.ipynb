{
 "cells": [
  {
   "cell_type": "markdown",
   "id": "9b0dd121",
   "metadata": {},
   "source": [
    "# `get_data()` Demo Notebook from `CIROH-UVM/forecast-workflow`"
   ]
  },
  {
   "cell_type": "markdown",
   "id": "8b941ce6",
   "metadata": {},
   "source": [
    "## Setup\n",
    "1. Clone the [forecast-workflow repository](https://github.com/CIROH-UVM/forecast-workflow/tree/main) to your user space on the testbed\n",
    "2. Launch Jupyter Lab and select the kernel called \"forecast\"\n",
    "3. Add the path to your cloned repo to you Python path by running the cell below (only run once per notebook)"
   ]
  },
  {
   "cell_type": "code",
   "execution_count": 1,
   "id": "08f75820-a8a1-4a3a-9929-2f70757a905c",
   "metadata": {},
   "outputs": [],
   "source": [
    "# import sys\n",
    "# sys.path.append('/your/path/to/forecast-workflow')"
   ]
  },
  {
   "cell_type": "markdown",
   "id": "01cc2623",
   "metadata": {},
   "source": [
    "## NWM forecasted streamflow data\n"
   ]
  },
  {
   "cell_type": "code",
   "execution_count": 2,
   "id": "ef3c2125",
   "metadata": {},
   "outputs": [
    {
     "data": {
      "text/plain": [
       "'\\nA function to download and process NWM hydrology forecast data to return nested dictionary of pandas series fore each variable, for each location.\\n\\nArgs:\\n-- forecast_datetime (str, date, or datetime) [req]: the start date and time (00, 06, 12, 18) of the forecast to download. Times are assumed to be UTC time.\\n-- end_datetime (str, date, or datetime) [req]: the end date and time for the forecast. GFS forecasts 16-days out for a given start date.\\n-- locations (dict) [req]: a dictionary (stationID/name:IDValue/latlong tuple) of locations to download forecast data for.\\n-- forecast_type (str) [req]: The type of forecast.\\n-- data_dir (str) [opt]: directory to store donwloaded data. Defaults to OS\\'s default temp directory.\\n-- dwnld_threads (int) [opt]: number of threads to use for downloads. Default is half of OS\\'s available threads.\\n-- load_threads (int) [opt]: number of threads to use for reading data. Default is 2 for GFS, since file reads are already pretty fast.\\n-- forecast_cycle (str) [req]: The starting time for the forecasts. valid values are 00, 06, 12, 18\\n-- google_buckets (bool) [opt]: Flag determining wether or not to use google buckets for nwm download as opposed to NOMADs site.\\n-- archive (bool) [opt]: Flag determining wether or not data you are grabbing is older than the last two days (relevant for NWM only)\\n-- return_type (string) [opt]: string indicating which format to return data in. Default is \"dict\", which will return data in a nested dict format:\\n\\t\\t\\t\\t\\t\\t\\t\\t{locationID1:{\\n\\t\\t\\t\\t\\t\\t\\t\\t\\tvar1_name:pd.Series,\\n\\t\\t\\t\\t\\t\\t\\t\\t\\tvar2_name:pd.Series,\\n\\t\\t\\t\\t\\t\\t\\t\\t\\t...},\\n\\t\\t\\t\\t\\t\\t\\t\\tlocationID2:{...},\\n\\t\\t\\t\\t\\t\\t\\t\\t...\\n\\t\\t\\t\\t\\t\\t\\t\\t}\\n\\t\\t\\t\\t\\t\\t\\t\\tAlternative return type is \"dataframe\", which smashes all data into a single dataframe muliIndex\\'d by station ID, then timestamp\\t\\nReturns:\\nNWM data in the format specified by return_type\\n'"
      ]
     },
     "execution_count": 2,
     "metadata": {},
     "output_type": "execute_result"
    }
   ],
   "source": [
    "\"\"\"\n",
    "A function to download and process NWM hydrology forecast data to return nested dictionary of pandas series fore each variable, for each location.\n",
    "\n",
    "Args:\n",
    "-- forecast_datetime (str, date, or datetime) [req]: the start date and time (00, 06, 12, 18) of the forecast to download. Times are assumed to be UTC time.\n",
    "-- end_datetime (str, date, or datetime) [req]: the end date and time for the forecast. GFS forecasts 16-days out for a given start date.\n",
    "-- locations (dict) [req]: a dictionary (stationID/name:IDValue/latlong tuple) of locations to download forecast data for.\n",
    "-- forecast_type (str) [req]: The type of forecast.\n",
    "-- data_dir (str) [opt]: directory to store donwloaded data. Defaults to OS's default temp directory.\n",
    "-- dwnld_threads (int) [opt]: number of threads to use for downloads. Default is half of OS's available threads.\n",
    "-- load_threads (int) [opt]: number of threads to use for reading data. Default is 2 for GFS, since file reads are already pretty fast.\n",
    "-- forecast_cycle (str) [req]: The starting time for the forecasts. valid values are 00, 06, 12, 18\n",
    "-- google_buckets (bool) [opt]: Flag determining wether or not to use google buckets for nwm download as opposed to NOMADs site.\n",
    "-- archive (bool) [opt]: Flag determining wether or not data you are grabbing is older than the last two days (relevant for NWM only)\n",
    "-- return_type (string) [opt]: string indicating which format to return data in. Default is \"dict\", which will return data in a nested dict format:\n",
    "\t\t\t\t\t\t\t\t{locationID1:{\n",
    "\t\t\t\t\t\t\t\t\tvar1_name:pd.Series,\n",
    "\t\t\t\t\t\t\t\t\tvar2_name:pd.Series,\n",
    "\t\t\t\t\t\t\t\t\t...},\n",
    "\t\t\t\t\t\t\t\tlocationID2:{...},\n",
    "\t\t\t\t\t\t\t\t...\n",
    "\t\t\t\t\t\t\t\t}\n",
    "\t\t\t\t\t\t\t\tAlternative return type is \"dataframe\", which smashes all data into a single dataframe muliIndex'd by station ID, then timestamp\t\n",
    "Returns:\n",
    "NWM data in the format specified by return_type\n",
    "\"\"\""
   ]
  },
  {
   "cell_type": "code",
   "execution_count": 3,
   "id": "52c1d4d0-8595-4cde-bb53-9550ef55133a",
   "metadata": {
    "scrolled": true
   },
   "outputs": [
    {
     "name": "stdout",
     "output_type": "stream",
     "text": [
      "2024-01-23 10:10:55,760 - INFO - ipykernel_launcher - IAMlogging initialized\n"
     ]
    }
   ],
   "source": [
    "import data.nwm_fc as nwm\n",
    "import datetime as dt\n",
    "import pandas as pd\n",
    "\n",
    "fc_start_dt = dt.datetime(2024, 1, 16, 6)\n",
    "# wothout an hour specified, will default to midnight forecast cycle\n",
    "# fc_start_dt = \"202401016\"\n",
    "\n",
    "# use the same hour as our start datetime, so that we get a full 10 days of fc data\n",
    "fc_end_dt = dt.datetime(2024, 1, 26, 6)\n",
    "\n",
    "# define some locations to grab data for. Reach IDs for the NWM can be found at: \n",
    "# https://water.noaa.gov/map\n",
    "reaches =  {\"Missisquoi River\":\"166176984\",\n",
    "\t\t\t\"Jewett Brook\":\"4587092\",\n",
    "            \"Mill River\":\"4587100\"}\n",
    "\n",
    "fc_type = \"medium_range_mem1\"\n",
    "\n",
    "# define a directory in which to download NWM data\n",
    "data_directory = \"/data/users/n/b/nbeckage/forecastData/\"\n",
    "\n",
    "# yes, we want to use google buckets for all data older than yesterday\n",
    "buckets = True\n",
    "arch = True\n"
   ]
  },
  {
   "cell_type": "code",
   "execution_count": 4,
   "id": "296fab2c",
   "metadata": {},
   "outputs": [
    {
     "name": "stdout",
     "output_type": "stream",
     "text": [
      "2024-01-23 10:10:56,083 - INFO - ipykernel_launcher - TASK INITIATED: Download 240-hour NWM hydrology forecasts for the following date: 20240116\n",
      "2024-01-23 10:10:56,084 - INFO - ipykernel_launcher - Skipping download; nwm.t06z.medium_range.channel_rt_1.f003.conus.nc found at: /data/users/n/b/nbeckage/forecastData/nwm/nwm.20240116/medium_range_mem1/nwm.t06z.medium_range.channel_rt_1.f003.conus.nc\n",
      "2024-01-23 10:10:56,084 - INFO - ipykernel_launcher - Skipping download; nwm.t06z.medium_range.channel_rt_1.f006.conus.nc found at: /data/users/n/b/nbeckage/forecastData/nwm/nwm.20240116/medium_range_mem1/nwm.t06z.medium_range.channel_rt_1.f006.conus.nc\n",
      "2024-01-23 10:10:56,085 - INFO - ipykernel_launcher - Skipping download; nwm.t06z.medium_range.channel_rt_1.f009.conus.nc found at: /data/users/n/b/nbeckage/forecastData/nwm/nwm.20240116/medium_range_mem1/nwm.t06z.medium_range.channel_rt_1.f009.conus.nc\n",
      "2024-01-23 10:10:56,085 - INFO - ipykernel_launcher - Skipping download; nwm.t06z.medium_range.channel_rt_1.f012.conus.nc found at: /data/users/n/b/nbeckage/forecastData/nwm/nwm.20240116/medium_range_mem1/nwm.t06z.medium_range.channel_rt_1.f012.conus.nc\n",
      "2024-01-23 10:10:56,085 - INFO - ipykernel_launcher - Skipping download; nwm.t06z.medium_range.channel_rt_1.f015.conus.nc found at: /data/users/n/b/nbeckage/forecastData/nwm/nwm.20240116/medium_range_mem1/nwm.t06z.medium_range.channel_rt_1.f015.conus.nc\n",
      "2024-01-23 10:10:56,086 - INFO - ipykernel_launcher - Skipping download; nwm.t06z.medium_range.channel_rt_1.f018.conus.nc found at: /data/users/n/b/nbeckage/forecastData/nwm/nwm.20240116/medium_range_mem1/nwm.t06z.medium_range.channel_rt_1.f018.conus.nc\n",
      "2024-01-23 10:10:56,086 - INFO - ipykernel_launcher - Skipping download; nwm.t06z.medium_range.channel_rt_1.f021.conus.nc found at: /data/users/n/b/nbeckage/forecastData/nwm/nwm.20240116/medium_range_mem1/nwm.t06z.medium_range.channel_rt_1.f021.conus.nc\n",
      "2024-01-23 10:10:56,087 - INFO - ipykernel_launcher - Skipping download; nwm.t06z.medium_range.channel_rt_1.f024.conus.nc found at: /data/users/n/b/nbeckage/forecastData/nwm/nwm.20240116/medium_range_mem1/nwm.t06z.medium_range.channel_rt_1.f024.conus.nc\n",
      "2024-01-23 10:10:56,087 - INFO - ipykernel_launcher - Skipping download; nwm.t06z.medium_range.channel_rt_1.f027.conus.nc found at: /data/users/n/b/nbeckage/forecastData/nwm/nwm.20240116/medium_range_mem1/nwm.t06z.medium_range.channel_rt_1.f027.conus.nc\n",
      "2024-01-23 10:10:56,088 - INFO - ipykernel_launcher - Skipping download; nwm.t06z.medium_range.channel_rt_1.f030.conus.nc found at: /data/users/n/b/nbeckage/forecastData/nwm/nwm.20240116/medium_range_mem1/nwm.t06z.medium_range.channel_rt_1.f030.conus.nc\n",
      "2024-01-23 10:10:56,088 - INFO - ipykernel_launcher - Skipping download; nwm.t06z.medium_range.channel_rt_1.f033.conus.nc found at: /data/users/n/b/nbeckage/forecastData/nwm/nwm.20240116/medium_range_mem1/nwm.t06z.medium_range.channel_rt_1.f033.conus.nc\n",
      "2024-01-23 10:10:56,088 - INFO - ipykernel_launcher - Skipping download; nwm.t06z.medium_range.channel_rt_1.f036.conus.nc found at: /data/users/n/b/nbeckage/forecastData/nwm/nwm.20240116/medium_range_mem1/nwm.t06z.medium_range.channel_rt_1.f036.conus.nc\n",
      "2024-01-23 10:10:56,089 - INFO - ipykernel_launcher - Skipping download; nwm.t06z.medium_range.channel_rt_1.f039.conus.nc found at: /data/users/n/b/nbeckage/forecastData/nwm/nwm.20240116/medium_range_mem1/nwm.t06z.medium_range.channel_rt_1.f039.conus.nc\n",
      "2024-01-23 10:10:56,089 - INFO - ipykernel_launcher - Skipping download; nwm.t06z.medium_range.channel_rt_1.f042.conus.nc found at: /data/users/n/b/nbeckage/forecastData/nwm/nwm.20240116/medium_range_mem1/nwm.t06z.medium_range.channel_rt_1.f042.conus.nc\n",
      "2024-01-23 10:10:56,090 - INFO - ipykernel_launcher - Skipping download; nwm.t06z.medium_range.channel_rt_1.f045.conus.nc found at: /data/users/n/b/nbeckage/forecastData/nwm/nwm.20240116/medium_range_mem1/nwm.t06z.medium_range.channel_rt_1.f045.conus.nc\n",
      "2024-01-23 10:10:56,090 - INFO - ipykernel_launcher - Skipping download; nwm.t06z.medium_range.channel_rt_1.f048.conus.nc found at: /data/users/n/b/nbeckage/forecastData/nwm/nwm.20240116/medium_range_mem1/nwm.t06z.medium_range.channel_rt_1.f048.conus.nc\n",
      "2024-01-23 10:10:56,090 - INFO - ipykernel_launcher - Skipping download; nwm.t06z.medium_range.channel_rt_1.f051.conus.nc found at: /data/users/n/b/nbeckage/forecastData/nwm/nwm.20240116/medium_range_mem1/nwm.t06z.medium_range.channel_rt_1.f051.conus.nc\n",
      "2024-01-23 10:10:56,091 - INFO - ipykernel_launcher - Skipping download; nwm.t06z.medium_range.channel_rt_1.f054.conus.nc found at: /data/users/n/b/nbeckage/forecastData/nwm/nwm.20240116/medium_range_mem1/nwm.t06z.medium_range.channel_rt_1.f054.conus.nc\n",
      "2024-01-23 10:10:56,091 - INFO - ipykernel_launcher - Skipping download; nwm.t06z.medium_range.channel_rt_1.f057.conus.nc found at: /data/users/n/b/nbeckage/forecastData/nwm/nwm.20240116/medium_range_mem1/nwm.t06z.medium_range.channel_rt_1.f057.conus.nc\n",
      "2024-01-23 10:10:56,092 - INFO - ipykernel_launcher - Skipping download; nwm.t06z.medium_range.channel_rt_1.f060.conus.nc found at: /data/users/n/b/nbeckage/forecastData/nwm/nwm.20240116/medium_range_mem1/nwm.t06z.medium_range.channel_rt_1.f060.conus.nc\n",
      "2024-01-23 10:10:56,092 - INFO - ipykernel_launcher - Skipping download; nwm.t06z.medium_range.channel_rt_1.f063.conus.nc found at: /data/users/n/b/nbeckage/forecastData/nwm/nwm.20240116/medium_range_mem1/nwm.t06z.medium_range.channel_rt_1.f063.conus.nc\n",
      "2024-01-23 10:10:56,092 - INFO - ipykernel_launcher - Skipping download; nwm.t06z.medium_range.channel_rt_1.f066.conus.nc found at: /data/users/n/b/nbeckage/forecastData/nwm/nwm.20240116/medium_range_mem1/nwm.t06z.medium_range.channel_rt_1.f066.conus.nc\n",
      "2024-01-23 10:10:56,093 - INFO - ipykernel_launcher - Skipping download; nwm.t06z.medium_range.channel_rt_1.f069.conus.nc found at: /data/users/n/b/nbeckage/forecastData/nwm/nwm.20240116/medium_range_mem1/nwm.t06z.medium_range.channel_rt_1.f069.conus.nc\n",
      "2024-01-23 10:10:56,093 - INFO - ipykernel_launcher - Skipping download; nwm.t06z.medium_range.channel_rt_1.f072.conus.nc found at: /data/users/n/b/nbeckage/forecastData/nwm/nwm.20240116/medium_range_mem1/nwm.t06z.medium_range.channel_rt_1.f072.conus.nc\n",
      "2024-01-23 10:10:56,094 - INFO - ipykernel_launcher - Skipping download; nwm.t06z.medium_range.channel_rt_1.f075.conus.nc found at: /data/users/n/b/nbeckage/forecastData/nwm/nwm.20240116/medium_range_mem1/nwm.t06z.medium_range.channel_rt_1.f075.conus.nc\n",
      "2024-01-23 10:10:56,094 - INFO - ipykernel_launcher - Skipping download; nwm.t06z.medium_range.channel_rt_1.f078.conus.nc found at: /data/users/n/b/nbeckage/forecastData/nwm/nwm.20240116/medium_range_mem1/nwm.t06z.medium_range.channel_rt_1.f078.conus.nc\n",
      "2024-01-23 10:10:56,095 - INFO - ipykernel_launcher - Skipping download; nwm.t06z.medium_range.channel_rt_1.f081.conus.nc found at: /data/users/n/b/nbeckage/forecastData/nwm/nwm.20240116/medium_range_mem1/nwm.t06z.medium_range.channel_rt_1.f081.conus.nc\n",
      "2024-01-23 10:10:56,095 - INFO - ipykernel_launcher - Skipping download; nwm.t06z.medium_range.channel_rt_1.f084.conus.nc found at: /data/users/n/b/nbeckage/forecastData/nwm/nwm.20240116/medium_range_mem1/nwm.t06z.medium_range.channel_rt_1.f084.conus.nc\n",
      "2024-01-23 10:10:56,095 - INFO - ipykernel_launcher - Skipping download; nwm.t06z.medium_range.channel_rt_1.f087.conus.nc found at: /data/users/n/b/nbeckage/forecastData/nwm/nwm.20240116/medium_range_mem1/nwm.t06z.medium_range.channel_rt_1.f087.conus.nc\n",
      "2024-01-23 10:10:56,096 - INFO - ipykernel_launcher - Skipping download; nwm.t06z.medium_range.channel_rt_1.f090.conus.nc found at: /data/users/n/b/nbeckage/forecastData/nwm/nwm.20240116/medium_range_mem1/nwm.t06z.medium_range.channel_rt_1.f090.conus.nc\n",
      "2024-01-23 10:10:56,096 - INFO - ipykernel_launcher - Skipping download; nwm.t06z.medium_range.channel_rt_1.f093.conus.nc found at: /data/users/n/b/nbeckage/forecastData/nwm/nwm.20240116/medium_range_mem1/nwm.t06z.medium_range.channel_rt_1.f093.conus.nc\n",
      "2024-01-23 10:10:56,096 - INFO - ipykernel_launcher - Skipping download; nwm.t06z.medium_range.channel_rt_1.f096.conus.nc found at: /data/users/n/b/nbeckage/forecastData/nwm/nwm.20240116/medium_range_mem1/nwm.t06z.medium_range.channel_rt_1.f096.conus.nc\n",
      "2024-01-23 10:10:56,097 - INFO - ipykernel_launcher - Skipping download; nwm.t06z.medium_range.channel_rt_1.f099.conus.nc found at: /data/users/n/b/nbeckage/forecastData/nwm/nwm.20240116/medium_range_mem1/nwm.t06z.medium_range.channel_rt_1.f099.conus.nc\n",
      "2024-01-23 10:10:56,097 - INFO - ipykernel_launcher - Skipping download; nwm.t06z.medium_range.channel_rt_1.f102.conus.nc found at: /data/users/n/b/nbeckage/forecastData/nwm/nwm.20240116/medium_range_mem1/nwm.t06z.medium_range.channel_rt_1.f102.conus.nc\n",
      "2024-01-23 10:10:56,098 - INFO - ipykernel_launcher - Skipping download; nwm.t06z.medium_range.channel_rt_1.f105.conus.nc found at: /data/users/n/b/nbeckage/forecastData/nwm/nwm.20240116/medium_range_mem1/nwm.t06z.medium_range.channel_rt_1.f105.conus.nc\n",
      "2024-01-23 10:10:56,098 - INFO - ipykernel_launcher - Skipping download; nwm.t06z.medium_range.channel_rt_1.f108.conus.nc found at: /data/users/n/b/nbeckage/forecastData/nwm/nwm.20240116/medium_range_mem1/nwm.t06z.medium_range.channel_rt_1.f108.conus.nc\n",
      "2024-01-23 10:10:56,099 - INFO - ipykernel_launcher - Skipping download; nwm.t06z.medium_range.channel_rt_1.f111.conus.nc found at: /data/users/n/b/nbeckage/forecastData/nwm/nwm.20240116/medium_range_mem1/nwm.t06z.medium_range.channel_rt_1.f111.conus.nc\n",
      "2024-01-23 10:10:56,099 - INFO - ipykernel_launcher - Skipping download; nwm.t06z.medium_range.channel_rt_1.f114.conus.nc found at: /data/users/n/b/nbeckage/forecastData/nwm/nwm.20240116/medium_range_mem1/nwm.t06z.medium_range.channel_rt_1.f114.conus.nc\n",
      "2024-01-23 10:10:56,099 - INFO - ipykernel_launcher - Skipping download; nwm.t06z.medium_range.channel_rt_1.f117.conus.nc found at: /data/users/n/b/nbeckage/forecastData/nwm/nwm.20240116/medium_range_mem1/nwm.t06z.medium_range.channel_rt_1.f117.conus.nc\n",
      "2024-01-23 10:10:56,100 - INFO - ipykernel_launcher - Skipping download; nwm.t06z.medium_range.channel_rt_1.f120.conus.nc found at: /data/users/n/b/nbeckage/forecastData/nwm/nwm.20240116/medium_range_mem1/nwm.t06z.medium_range.channel_rt_1.f120.conus.nc\n",
      "2024-01-23 10:10:56,100 - INFO - ipykernel_launcher - Skipping download; nwm.t06z.medium_range.channel_rt_1.f123.conus.nc found at: /data/users/n/b/nbeckage/forecastData/nwm/nwm.20240116/medium_range_mem1/nwm.t06z.medium_range.channel_rt_1.f123.conus.nc\n",
      "2024-01-23 10:10:56,101 - INFO - ipykernel_launcher - Skipping download; nwm.t06z.medium_range.channel_rt_1.f126.conus.nc found at: /data/users/n/b/nbeckage/forecastData/nwm/nwm.20240116/medium_range_mem1/nwm.t06z.medium_range.channel_rt_1.f126.conus.nc\n",
      "2024-01-23 10:10:56,101 - INFO - ipykernel_launcher - Skipping download; nwm.t06z.medium_range.channel_rt_1.f129.conus.nc found at: /data/users/n/b/nbeckage/forecastData/nwm/nwm.20240116/medium_range_mem1/nwm.t06z.medium_range.channel_rt_1.f129.conus.nc\n",
      "2024-01-23 10:10:56,101 - INFO - ipykernel_launcher - Skipping download; nwm.t06z.medium_range.channel_rt_1.f132.conus.nc found at: /data/users/n/b/nbeckage/forecastData/nwm/nwm.20240116/medium_range_mem1/nwm.t06z.medium_range.channel_rt_1.f132.conus.nc\n",
      "2024-01-23 10:10:56,102 - INFO - ipykernel_launcher - Skipping download; nwm.t06z.medium_range.channel_rt_1.f135.conus.nc found at: /data/users/n/b/nbeckage/forecastData/nwm/nwm.20240116/medium_range_mem1/nwm.t06z.medium_range.channel_rt_1.f135.conus.nc\n",
      "2024-01-23 10:10:56,102 - INFO - ipykernel_launcher - Skipping download; nwm.t06z.medium_range.channel_rt_1.f138.conus.nc found at: /data/users/n/b/nbeckage/forecastData/nwm/nwm.20240116/medium_range_mem1/nwm.t06z.medium_range.channel_rt_1.f138.conus.nc\n",
      "2024-01-23 10:10:56,103 - INFO - ipykernel_launcher - Skipping download; nwm.t06z.medium_range.channel_rt_1.f141.conus.nc found at: /data/users/n/b/nbeckage/forecastData/nwm/nwm.20240116/medium_range_mem1/nwm.t06z.medium_range.channel_rt_1.f141.conus.nc\n",
      "2024-01-23 10:10:56,103 - INFO - ipykernel_launcher - Skipping download; nwm.t06z.medium_range.channel_rt_1.f144.conus.nc found at: /data/users/n/b/nbeckage/forecastData/nwm/nwm.20240116/medium_range_mem1/nwm.t06z.medium_range.channel_rt_1.f144.conus.nc\n",
      "2024-01-23 10:10:56,103 - INFO - ipykernel_launcher - Skipping download; nwm.t06z.medium_range.channel_rt_1.f147.conus.nc found at: /data/users/n/b/nbeckage/forecastData/nwm/nwm.20240116/medium_range_mem1/nwm.t06z.medium_range.channel_rt_1.f147.conus.nc\n",
      "2024-01-23 10:10:56,104 - INFO - ipykernel_launcher - Skipping download; nwm.t06z.medium_range.channel_rt_1.f150.conus.nc found at: /data/users/n/b/nbeckage/forecastData/nwm/nwm.20240116/medium_range_mem1/nwm.t06z.medium_range.channel_rt_1.f150.conus.nc\n",
      "2024-01-23 10:10:56,104 - INFO - ipykernel_launcher - Skipping download; nwm.t06z.medium_range.channel_rt_1.f153.conus.nc found at: /data/users/n/b/nbeckage/forecastData/nwm/nwm.20240116/medium_range_mem1/nwm.t06z.medium_range.channel_rt_1.f153.conus.nc\n",
      "2024-01-23 10:10:56,105 - INFO - ipykernel_launcher - Skipping download; nwm.t06z.medium_range.channel_rt_1.f156.conus.nc found at: /data/users/n/b/nbeckage/forecastData/nwm/nwm.20240116/medium_range_mem1/nwm.t06z.medium_range.channel_rt_1.f156.conus.nc\n",
      "2024-01-23 10:10:56,105 - INFO - ipykernel_launcher - Skipping download; nwm.t06z.medium_range.channel_rt_1.f159.conus.nc found at: /data/users/n/b/nbeckage/forecastData/nwm/nwm.20240116/medium_range_mem1/nwm.t06z.medium_range.channel_rt_1.f159.conus.nc\n",
      "2024-01-23 10:10:56,106 - INFO - ipykernel_launcher - Skipping download; nwm.t06z.medium_range.channel_rt_1.f162.conus.nc found at: /data/users/n/b/nbeckage/forecastData/nwm/nwm.20240116/medium_range_mem1/nwm.t06z.medium_range.channel_rt_1.f162.conus.nc\n",
      "2024-01-23 10:10:56,106 - INFO - ipykernel_launcher - Skipping download; nwm.t06z.medium_range.channel_rt_1.f165.conus.nc found at: /data/users/n/b/nbeckage/forecastData/nwm/nwm.20240116/medium_range_mem1/nwm.t06z.medium_range.channel_rt_1.f165.conus.nc\n",
      "2024-01-23 10:10:56,106 - INFO - ipykernel_launcher - Skipping download; nwm.t06z.medium_range.channel_rt_1.f168.conus.nc found at: /data/users/n/b/nbeckage/forecastData/nwm/nwm.20240116/medium_range_mem1/nwm.t06z.medium_range.channel_rt_1.f168.conus.nc\n",
      "2024-01-23 10:10:56,107 - INFO - ipykernel_launcher - Skipping download; nwm.t06z.medium_range.channel_rt_1.f171.conus.nc found at: /data/users/n/b/nbeckage/forecastData/nwm/nwm.20240116/medium_range_mem1/nwm.t06z.medium_range.channel_rt_1.f171.conus.nc\n",
      "2024-01-23 10:10:56,107 - INFO - ipykernel_launcher - Skipping download; nwm.t06z.medium_range.channel_rt_1.f174.conus.nc found at: /data/users/n/b/nbeckage/forecastData/nwm/nwm.20240116/medium_range_mem1/nwm.t06z.medium_range.channel_rt_1.f174.conus.nc\n",
      "2024-01-23 10:10:56,107 - INFO - ipykernel_launcher - Skipping download; nwm.t06z.medium_range.channel_rt_1.f177.conus.nc found at: /data/users/n/b/nbeckage/forecastData/nwm/nwm.20240116/medium_range_mem1/nwm.t06z.medium_range.channel_rt_1.f177.conus.nc\n",
      "2024-01-23 10:10:56,108 - INFO - ipykernel_launcher - Skipping download; nwm.t06z.medium_range.channel_rt_1.f180.conus.nc found at: /data/users/n/b/nbeckage/forecastData/nwm/nwm.20240116/medium_range_mem1/nwm.t06z.medium_range.channel_rt_1.f180.conus.nc\n",
      "2024-01-23 10:10:56,108 - INFO - ipykernel_launcher - Skipping download; nwm.t06z.medium_range.channel_rt_1.f183.conus.nc found at: /data/users/n/b/nbeckage/forecastData/nwm/nwm.20240116/medium_range_mem1/nwm.t06z.medium_range.channel_rt_1.f183.conus.nc\n",
      "2024-01-23 10:10:56,109 - INFO - ipykernel_launcher - Skipping download; nwm.t06z.medium_range.channel_rt_1.f186.conus.nc found at: /data/users/n/b/nbeckage/forecastData/nwm/nwm.20240116/medium_range_mem1/nwm.t06z.medium_range.channel_rt_1.f186.conus.nc\n",
      "2024-01-23 10:10:56,109 - INFO - ipykernel_launcher - Skipping download; nwm.t06z.medium_range.channel_rt_1.f189.conus.nc found at: /data/users/n/b/nbeckage/forecastData/nwm/nwm.20240116/medium_range_mem1/nwm.t06z.medium_range.channel_rt_1.f189.conus.nc\n",
      "2024-01-23 10:10:56,109 - INFO - ipykernel_launcher - Skipping download; nwm.t06z.medium_range.channel_rt_1.f192.conus.nc found at: /data/users/n/b/nbeckage/forecastData/nwm/nwm.20240116/medium_range_mem1/nwm.t06z.medium_range.channel_rt_1.f192.conus.nc\n",
      "2024-01-23 10:10:56,110 - INFO - ipykernel_launcher - Skipping download; nwm.t06z.medium_range.channel_rt_1.f195.conus.nc found at: /data/users/n/b/nbeckage/forecastData/nwm/nwm.20240116/medium_range_mem1/nwm.t06z.medium_range.channel_rt_1.f195.conus.nc\n",
      "2024-01-23 10:10:56,110 - INFO - ipykernel_launcher - Skipping download; nwm.t06z.medium_range.channel_rt_1.f198.conus.nc found at: /data/users/n/b/nbeckage/forecastData/nwm/nwm.20240116/medium_range_mem1/nwm.t06z.medium_range.channel_rt_1.f198.conus.nc\n",
      "2024-01-23 10:10:56,111 - INFO - ipykernel_launcher - Skipping download; nwm.t06z.medium_range.channel_rt_1.f201.conus.nc found at: /data/users/n/b/nbeckage/forecastData/nwm/nwm.20240116/medium_range_mem1/nwm.t06z.medium_range.channel_rt_1.f201.conus.nc\n",
      "2024-01-23 10:10:56,111 - INFO - ipykernel_launcher - Skipping download; nwm.t06z.medium_range.channel_rt_1.f204.conus.nc found at: /data/users/n/b/nbeckage/forecastData/nwm/nwm.20240116/medium_range_mem1/nwm.t06z.medium_range.channel_rt_1.f204.conus.nc\n",
      "2024-01-23 10:10:56,111 - INFO - ipykernel_launcher - Skipping download; nwm.t06z.medium_range.channel_rt_1.f207.conus.nc found at: /data/users/n/b/nbeckage/forecastData/nwm/nwm.20240116/medium_range_mem1/nwm.t06z.medium_range.channel_rt_1.f207.conus.nc\n",
      "2024-01-23 10:10:56,112 - INFO - ipykernel_launcher - Skipping download; nwm.t06z.medium_range.channel_rt_1.f210.conus.nc found at: /data/users/n/b/nbeckage/forecastData/nwm/nwm.20240116/medium_range_mem1/nwm.t06z.medium_range.channel_rt_1.f210.conus.nc\n",
      "2024-01-23 10:10:56,112 - INFO - ipykernel_launcher - Skipping download; nwm.t06z.medium_range.channel_rt_1.f213.conus.nc found at: /data/users/n/b/nbeckage/forecastData/nwm/nwm.20240116/medium_range_mem1/nwm.t06z.medium_range.channel_rt_1.f213.conus.nc\n",
      "2024-01-23 10:10:56,112 - INFO - ipykernel_launcher - Skipping download; nwm.t06z.medium_range.channel_rt_1.f216.conus.nc found at: /data/users/n/b/nbeckage/forecastData/nwm/nwm.20240116/medium_range_mem1/nwm.t06z.medium_range.channel_rt_1.f216.conus.nc\n",
      "2024-01-23 10:10:56,113 - INFO - ipykernel_launcher - Skipping download; nwm.t06z.medium_range.channel_rt_1.f219.conus.nc found at: /data/users/n/b/nbeckage/forecastData/nwm/nwm.20240116/medium_range_mem1/nwm.t06z.medium_range.channel_rt_1.f219.conus.nc\n",
      "2024-01-23 10:10:56,113 - INFO - ipykernel_launcher - Skipping download; nwm.t06z.medium_range.channel_rt_1.f222.conus.nc found at: /data/users/n/b/nbeckage/forecastData/nwm/nwm.20240116/medium_range_mem1/nwm.t06z.medium_range.channel_rt_1.f222.conus.nc\n",
      "2024-01-23 10:10:56,114 - INFO - ipykernel_launcher - Skipping download; nwm.t06z.medium_range.channel_rt_1.f225.conus.nc found at: /data/users/n/b/nbeckage/forecastData/nwm/nwm.20240116/medium_range_mem1/nwm.t06z.medium_range.channel_rt_1.f225.conus.nc\n",
      "2024-01-23 10:10:56,114 - INFO - ipykernel_launcher - Skipping download; nwm.t06z.medium_range.channel_rt_1.f228.conus.nc found at: /data/users/n/b/nbeckage/forecastData/nwm/nwm.20240116/medium_range_mem1/nwm.t06z.medium_range.channel_rt_1.f228.conus.nc\n",
      "2024-01-23 10:10:56,115 - INFO - ipykernel_launcher - Skipping download; nwm.t06z.medium_range.channel_rt_1.f231.conus.nc found at: /data/users/n/b/nbeckage/forecastData/nwm/nwm.20240116/medium_range_mem1/nwm.t06z.medium_range.channel_rt_1.f231.conus.nc\n",
      "2024-01-23 10:10:56,115 - INFO - ipykernel_launcher - Skipping download; nwm.t06z.medium_range.channel_rt_1.f234.conus.nc found at: /data/users/n/b/nbeckage/forecastData/nwm/nwm.20240116/medium_range_mem1/nwm.t06z.medium_range.channel_rt_1.f234.conus.nc\n",
      "2024-01-23 10:10:56,115 - INFO - ipykernel_launcher - Skipping download; nwm.t06z.medium_range.channel_rt_1.f237.conus.nc found at: /data/users/n/b/nbeckage/forecastData/nwm/nwm.20240116/medium_range_mem1/nwm.t06z.medium_range.channel_rt_1.f237.conus.nc\n",
      "2024-01-23 10:10:56,116 - INFO - ipykernel_launcher - Skipping download; nwm.t06z.medium_range.channel_rt_1.f240.conus.nc found at: /data/users/n/b/nbeckage/forecastData/nwm/nwm.20240116/medium_range_mem1/nwm.t06z.medium_range.channel_rt_1.f240.conus.nc\n",
      "2024-01-23 10:10:56,116 - INFO - ipykernel_launcher - TASK COMPLETE: NWM DOWNLOAD\n",
      "2024-01-23 10:11:04,335 - INFO - ipykernel_launcher - TASK INITIATED: Download 24-hour GFS forecasts for the following date: 20240116\n",
      "2024-01-23 10:11:04,336 - INFO - ipykernel_launcher - Skipping download; gfs.t00z.pgrb2.0p25.f000 found at: /data/users/n/b/nbeckage/forecastData/gfs/gfs.20240116/00/atmos\n",
      "2024-01-23 10:11:04,336 - INFO - ipykernel_launcher - Skipping download; gfs.t00z.pgrb2.0p25.f001 found at: /data/users/n/b/nbeckage/forecastData/gfs/gfs.20240116/00/atmos\n",
      "2024-01-23 10:11:04,337 - INFO - ipykernel_launcher - Skipping download; gfs.t00z.pgrb2.0p25.f002 found at: /data/users/n/b/nbeckage/forecastData/gfs/gfs.20240116/00/atmos\n",
      "2024-01-23 10:11:04,337 - INFO - ipykernel_launcher - Skipping download; gfs.t00z.pgrb2.0p25.f003 found at: /data/users/n/b/nbeckage/forecastData/gfs/gfs.20240116/00/atmos\n",
      "2024-01-23 10:11:04,338 - INFO - ipykernel_launcher - Skipping download; gfs.t00z.pgrb2.0p25.f004 found at: /data/users/n/b/nbeckage/forecastData/gfs/gfs.20240116/00/atmos\n",
      "2024-01-23 10:11:04,338 - INFO - ipykernel_launcher - Skipping download; gfs.t00z.pgrb2.0p25.f005 found at: /data/users/n/b/nbeckage/forecastData/gfs/gfs.20240116/00/atmos\n",
      "2024-01-23 10:11:04,339 - INFO - ipykernel_launcher - Skipping download; gfs.t00z.pgrb2.0p25.f006 found at: /data/users/n/b/nbeckage/forecastData/gfs/gfs.20240116/00/atmos\n",
      "2024-01-23 10:11:04,339 - INFO - ipykernel_launcher - Skipping download; gfs.t00z.pgrb2.0p25.f007 found at: /data/users/n/b/nbeckage/forecastData/gfs/gfs.20240116/00/atmos\n",
      "2024-01-23 10:11:04,340 - INFO - ipykernel_launcher - Skipping download; gfs.t00z.pgrb2.0p25.f008 found at: /data/users/n/b/nbeckage/forecastData/gfs/gfs.20240116/00/atmos\n",
      "2024-01-23 10:11:04,340 - INFO - ipykernel_launcher - Skipping download; gfs.t00z.pgrb2.0p25.f009 found at: /data/users/n/b/nbeckage/forecastData/gfs/gfs.20240116/00/atmos\n",
      "2024-01-23 10:11:04,341 - INFO - ipykernel_launcher - Skipping download; gfs.t00z.pgrb2.0p25.f010 found at: /data/users/n/b/nbeckage/forecastData/gfs/gfs.20240116/00/atmos\n",
      "2024-01-23 10:11:04,341 - INFO - ipykernel_launcher - Skipping download; gfs.t00z.pgrb2.0p25.f011 found at: /data/users/n/b/nbeckage/forecastData/gfs/gfs.20240116/00/atmos\n",
      "2024-01-23 10:11:04,342 - INFO - ipykernel_launcher - Skipping download; gfs.t00z.pgrb2.0p25.f012 found at: /data/users/n/b/nbeckage/forecastData/gfs/gfs.20240116/00/atmos\n",
      "2024-01-23 10:11:04,342 - INFO - ipykernel_launcher - Skipping download; gfs.t00z.pgrb2.0p25.f013 found at: /data/users/n/b/nbeckage/forecastData/gfs/gfs.20240116/00/atmos\n",
      "2024-01-23 10:11:04,343 - INFO - ipykernel_launcher - Skipping download; gfs.t00z.pgrb2.0p25.f014 found at: /data/users/n/b/nbeckage/forecastData/gfs/gfs.20240116/00/atmos\n",
      "2024-01-23 10:11:04,343 - INFO - ipykernel_launcher - Skipping download; gfs.t00z.pgrb2.0p25.f015 found at: /data/users/n/b/nbeckage/forecastData/gfs/gfs.20240116/00/atmos\n",
      "2024-01-23 10:11:04,344 - INFO - ipykernel_launcher - Skipping download; gfs.t00z.pgrb2.0p25.f016 found at: /data/users/n/b/nbeckage/forecastData/gfs/gfs.20240116/00/atmos\n",
      "2024-01-23 10:11:04,344 - INFO - ipykernel_launcher - Skipping download; gfs.t00z.pgrb2.0p25.f017 found at: /data/users/n/b/nbeckage/forecastData/gfs/gfs.20240116/00/atmos\n",
      "2024-01-23 10:11:04,345 - INFO - ipykernel_launcher - Skipping download; gfs.t00z.pgrb2.0p25.f018 found at: /data/users/n/b/nbeckage/forecastData/gfs/gfs.20240116/00/atmos\n",
      "2024-01-23 10:11:04,345 - INFO - ipykernel_launcher - Skipping download; gfs.t00z.pgrb2.0p25.f019 found at: /data/users/n/b/nbeckage/forecastData/gfs/gfs.20240116/00/atmos\n",
      "2024-01-23 10:11:04,346 - INFO - ipykernel_launcher - Skipping download; gfs.t00z.pgrb2.0p25.f020 found at: /data/users/n/b/nbeckage/forecastData/gfs/gfs.20240116/00/atmos\n",
      "2024-01-23 10:11:04,346 - INFO - ipykernel_launcher - Skipping download; gfs.t00z.pgrb2.0p25.f021 found at: /data/users/n/b/nbeckage/forecastData/gfs/gfs.20240116/00/atmos\n",
      "2024-01-23 10:11:04,346 - INFO - ipykernel_launcher - Skipping download; gfs.t00z.pgrb2.0p25.f022 found at: /data/users/n/b/nbeckage/forecastData/gfs/gfs.20240116/00/atmos\n",
      "2024-01-23 10:11:04,347 - INFO - ipykernel_launcher - Skipping download; gfs.t00z.pgrb2.0p25.f023 found at: /data/users/n/b/nbeckage/forecastData/gfs/gfs.20240116/00/atmos\n",
      "2024-01-23 10:11:04,347 - INFO - ipykernel_launcher - Skipping download; gfs.t00z.pgrb2.0p25.f024 found at: /data/users/n/b/nbeckage/forecastData/gfs/gfs.20240116/00/atmos\n",
      "2024-01-23 10:11:04,348 - INFO - ipykernel_launcher - TASK COMPLETE: GFS DOWNLOAD\n",
      "2024-01-23 10:11:06,239 - INFO - ipykernel_launcher - https://www.ncei.noaa.gov/access/services/data/v1/?dataset=local-climatological-data&stations=72617014742&startDate=2024-01-16&endDate=2024-01-17&dataTypes=HourlySkyConditions&format=json\n",
      "2024-01-23 10:11:06,501 - INFO - ipykernel_launcher - https://www.ncei.noaa.gov/access/services/data/v1/?dataset=local-climatological-data&stations=72617014742&startDate=2024-01-16&endDate=2024-01-17&dataTypes=HourlyPrecipitation&format=json\n",
      "2024-01-23 10:11:06,692 - INFO - ipykernel_launcher - <class 'NameError'>:name 'logger' is not defined\n",
      "2024-01-23 10:11:46,323 - INFO - ipykernel_launcher - time\n",
      "2024-01-23 10:11:46,324 - INFO - ipykernel_launcher - 2024-01-16 06:30:00+00:00    58.898944\n",
      "2024-01-23 10:11:46,324 - INFO - ipykernel_launcher - 2024-01-16 08:30:00+00:00    57.483104\n",
      "2024-01-23 10:11:46,325 - INFO - ipykernel_launcher - 2024-01-16 10:30:00+00:00    55.217760\n",
      "2024-01-23 10:11:46,325 - INFO - ipykernel_launcher - 2024-01-16 12:30:00+00:00    54.085088\n",
      "2024-01-23 10:11:46,326 - INFO - ipykernel_launcher - 2024-01-16 14:30:00+00:00    52.952416\n",
      "2024-01-23 10:11:46,326 - INFO - ipykernel_launcher -                                ...\n",
      "2024-01-23 10:11:46,327 - INFO - ipykernel_launcher - 2024-01-23 13:45:00+00:00    41.342528\n",
      "2024-01-23 10:11:46,327 - INFO - ipykernel_launcher - 2024-01-23 14:00:00+00:00    41.908864\n",
      "2024-01-23 10:11:46,328 - INFO - ipykernel_launcher - 2024-01-23 14:15:00+00:00    41.908864\n",
      "2024-01-23 10:11:46,328 - INFO - ipykernel_launcher - 2024-01-23 14:30:00+00:00    41.908864\n",
      "2024-01-23 10:11:46,328 - INFO - ipykernel_launcher - 2024-01-23 14:45:00+00:00    43.041536\n",
      "2024-01-23 10:11:46,329 - INFO - ipykernel_launcher - Name: streamflow, Length: 588, dtype: float64\n",
      "2024-01-23 10:11:50,324 - INFO - ipykernel_launcher - time\n",
      "2024-01-23 10:11:50,325 - INFO - ipykernel_launcher - 2024-01-16 06:30:00+00:00    58.898944\n",
      "2024-01-23 10:11:50,326 - INFO - ipykernel_launcher - 2024-01-16 08:30:00+00:00    57.483104\n",
      "2024-01-23 10:11:50,326 - INFO - ipykernel_launcher - 2024-01-16 10:30:00+00:00    55.217760\n",
      "2024-01-23 10:11:50,327 - INFO - ipykernel_launcher - 2024-01-16 12:30:00+00:00    54.085088\n",
      "2024-01-23 10:11:50,327 - INFO - ipykernel_launcher - 2024-01-16 14:30:00+00:00    52.952416\n",
      "2024-01-23 10:11:50,328 - INFO - ipykernel_launcher -                                ...\n",
      "2024-01-23 10:11:50,328 - INFO - ipykernel_launcher - 2024-01-23 13:45:00+00:00    41.342528\n",
      "2024-01-23 10:11:50,329 - INFO - ipykernel_launcher - 2024-01-23 14:00:00+00:00    41.908864\n",
      "2024-01-23 10:11:50,329 - INFO - ipykernel_launcher - 2024-01-23 14:15:00+00:00    41.908864\n",
      "2024-01-23 10:11:50,329 - INFO - ipykernel_launcher - 2024-01-23 14:30:00+00:00    41.908864\n",
      "2024-01-23 10:11:50,330 - INFO - ipykernel_launcher - 2024-01-23 14:45:00+00:00    43.041536\n",
      "2024-01-23 10:11:50,330 - INFO - ipykernel_launcher - Name: streamflow, Length: 588, dtype: float64\n",
      "2024-01-23 10:12:30,965 - INFO - ipykernel_launcher -                            streamflow\n",
      "2024-01-23 10:12:30,966 - INFO - ipykernel_launcher - time\n",
      "2024-01-23 10:12:30,967 - INFO - ipykernel_launcher - 2024-01-16 06:30:00+00:00   58.898944\n",
      "2024-01-23 10:12:30,967 - INFO - ipykernel_launcher - 2024-01-16 08:30:00+00:00   57.483104\n",
      "2024-01-23 10:12:30,968 - INFO - ipykernel_launcher - 2024-01-16 10:30:00+00:00   55.217760\n",
      "2024-01-23 10:12:30,968 - INFO - ipykernel_launcher - 2024-01-16 12:30:00+00:00   54.085088\n",
      "2024-01-23 10:12:30,969 - INFO - ipykernel_launcher - 2024-01-16 14:30:00+00:00   52.952416\n",
      "2024-01-23 10:12:30,969 - INFO - ipykernel_launcher - ...                               ...\n",
      "2024-01-23 10:12:30,969 - INFO - ipykernel_launcher - 2024-01-23 13:45:00+00:00   41.342528\n",
      "2024-01-23 10:12:30,970 - INFO - ipykernel_launcher - 2024-01-23 14:00:00+00:00   41.908864\n",
      "2024-01-23 10:12:30,970 - INFO - ipykernel_launcher - 2024-01-23 14:15:00+00:00   41.908864\n",
      "2024-01-23 10:12:30,971 - INFO - ipykernel_launcher - 2024-01-23 14:30:00+00:00   41.908864\n",
      "2024-01-23 10:12:30,971 - INFO - ipykernel_launcher - 2024-01-23 14:45:00+00:00   43.041536\n",
      "2024-01-23 10:12:30,973 - INFO - ipykernel_launcher - \n",
      "2024-01-23 10:12:30,974 - INFO - ipykernel_launcher - [588 rows x 1 columns]\n"
     ]
    }
   ],
   "source": [
    "nwm_data = nwm.get_data(forecast_datetime = fc_start_dt,\n",
    "\t\t\t \t\t   end_datetime = fc_end_dt,\n",
    "\t\t\t \t\t   locations = reaches,\n",
    "\t\t\t\t\t   forecast_type = fc_type,\n",
    "\t\t\t\t\t   data_dir = data_directory,\n",
    "\t\t\t\t\t   google_buckets = buckets,\n",
    "\t\t\t\t\t   archive = arch)"
   ]
  },
  {
   "cell_type": "code",
   "execution_count": 5,
   "id": "4382e2ef-8165-4062-9614-bd5e5d923d09",
   "metadata": {},
   "outputs": [
    {
     "data": {
      "text/plain": [
       "{'Missisquoi River': {'streamflow': time\n",
       "  2024-01-16 09:00:00+00:00    62.669999\n",
       "  2024-01-16 12:00:00+00:00    63.149999\n",
       "  2024-01-16 15:00:00+00:00    62.909999\n",
       "  2024-01-16 18:00:00+00:00    62.119999\n",
       "  2024-01-16 21:00:00+00:00    61.089999\n",
       "                                 ...    \n",
       "  2024-01-25 18:00:00+00:00    23.489999\n",
       "  2024-01-25 21:00:00+00:00    23.399999\n",
       "  2024-01-26 00:00:00+00:00    23.989999\n",
       "  2024-01-26 03:00:00+00:00    24.399999\n",
       "  2024-01-26 06:00:00+00:00    24.699999\n",
       "  Name: streamflow, Length: 80, dtype: float64},\n",
       " 'Jewett Brook': {'streamflow': time\n",
       "  2024-01-16 09:00:00+00:00    0.20\n",
       "  2024-01-16 12:00:00+00:00    0.40\n",
       "  2024-01-16 15:00:00+00:00    0.65\n",
       "  2024-01-16 18:00:00+00:00    0.78\n",
       "  2024-01-16 21:00:00+00:00    0.82\n",
       "                               ... \n",
       "  2024-01-25 18:00:00+00:00    0.31\n",
       "  2024-01-25 21:00:00+00:00    0.31\n",
       "  2024-01-26 00:00:00+00:00    0.31\n",
       "  2024-01-26 03:00:00+00:00    0.31\n",
       "  2024-01-26 06:00:00+00:00    0.30\n",
       "  Name: streamflow, Length: 80, dtype: float64},\n",
       " 'Mill River': {'streamflow': time\n",
       "  2024-01-16 09:00:00+00:00    1.33\n",
       "  2024-01-16 12:00:00+00:00    1.05\n",
       "  2024-01-16 15:00:00+00:00    0.91\n",
       "  2024-01-16 18:00:00+00:00    0.83\n",
       "  2024-01-16 21:00:00+00:00    0.79\n",
       "                               ... \n",
       "  2024-01-25 18:00:00+00:00    0.43\n",
       "  2024-01-25 21:00:00+00:00    0.70\n",
       "  2024-01-26 00:00:00+00:00    5.04\n",
       "  2024-01-26 03:00:00+00:00    5.61\n",
       "  2024-01-26 06:00:00+00:00    8.10\n",
       "  Name: streamflow, Length: 80, dtype: float64}}"
      ]
     },
     "execution_count": 5,
     "metadata": {},
     "output_type": "execute_result"
    }
   ],
   "source": [
    "nwm_data"
   ]
  },
  {
   "cell_type": "code",
   "execution_count": 6,
   "id": "7b1ded11",
   "metadata": {},
   "outputs": [
    {
     "data": {
      "text/html": [
       "<div>\n",
       "<style scoped>\n",
       "    .dataframe tbody tr th:only-of-type {\n",
       "        vertical-align: middle;\n",
       "    }\n",
       "\n",
       "    .dataframe tbody tr th {\n",
       "        vertical-align: top;\n",
       "    }\n",
       "\n",
       "    .dataframe thead th {\n",
       "        text-align: right;\n",
       "    }\n",
       "</style>\n",
       "<table border=\"1\" class=\"dataframe\">\n",
       "  <thead>\n",
       "    <tr style=\"text-align: right;\">\n",
       "      <th></th>\n",
       "      <th>streamflow</th>\n",
       "    </tr>\n",
       "    <tr>\n",
       "      <th>time</th>\n",
       "      <th></th>\n",
       "    </tr>\n",
       "  </thead>\n",
       "  <tbody>\n",
       "    <tr>\n",
       "      <th>2024-01-16 09:00:00+00:00</th>\n",
       "      <td>62.669999</td>\n",
       "    </tr>\n",
       "    <tr>\n",
       "      <th>2024-01-16 12:00:00+00:00</th>\n",
       "      <td>63.149999</td>\n",
       "    </tr>\n",
       "    <tr>\n",
       "      <th>2024-01-16 15:00:00+00:00</th>\n",
       "      <td>62.909999</td>\n",
       "    </tr>\n",
       "    <tr>\n",
       "      <th>2024-01-16 18:00:00+00:00</th>\n",
       "      <td>62.119999</td>\n",
       "    </tr>\n",
       "    <tr>\n",
       "      <th>2024-01-16 21:00:00+00:00</th>\n",
       "      <td>61.089999</td>\n",
       "    </tr>\n",
       "    <tr>\n",
       "      <th>...</th>\n",
       "      <td>...</td>\n",
       "    </tr>\n",
       "    <tr>\n",
       "      <th>2024-01-25 18:00:00+00:00</th>\n",
       "      <td>23.489999</td>\n",
       "    </tr>\n",
       "    <tr>\n",
       "      <th>2024-01-25 21:00:00+00:00</th>\n",
       "      <td>23.399999</td>\n",
       "    </tr>\n",
       "    <tr>\n",
       "      <th>2024-01-26 00:00:00+00:00</th>\n",
       "      <td>23.989999</td>\n",
       "    </tr>\n",
       "    <tr>\n",
       "      <th>2024-01-26 03:00:00+00:00</th>\n",
       "      <td>24.399999</td>\n",
       "    </tr>\n",
       "    <tr>\n",
       "      <th>2024-01-26 06:00:00+00:00</th>\n",
       "      <td>24.699999</td>\n",
       "    </tr>\n",
       "  </tbody>\n",
       "</table>\n",
       "<p>80 rows × 1 columns</p>\n",
       "</div>"
      ],
      "text/plain": [
       "                           streamflow\n",
       "time                                 \n",
       "2024-01-16 09:00:00+00:00   62.669999\n",
       "2024-01-16 12:00:00+00:00   63.149999\n",
       "2024-01-16 15:00:00+00:00   62.909999\n",
       "2024-01-16 18:00:00+00:00   62.119999\n",
       "2024-01-16 21:00:00+00:00   61.089999\n",
       "...                               ...\n",
       "2024-01-25 18:00:00+00:00   23.489999\n",
       "2024-01-25 21:00:00+00:00   23.399999\n",
       "2024-01-26 00:00:00+00:00   23.989999\n",
       "2024-01-26 03:00:00+00:00   24.399999\n",
       "2024-01-26 06:00:00+00:00   24.699999\n",
       "\n",
       "[80 rows x 1 columns]"
      ]
     },
     "execution_count": 6,
     "metadata": {},
     "output_type": "execute_result"
    }
   ],
   "source": [
    "pd.DataFrame(nwm_data['Missisquoi River']['streamflow'])"
   ]
  },
  {
   "cell_type": "markdown",
   "id": "13c484b8-f7e2-4502-85f5-4e367938acaf",
   "metadata": {
    "scrolled": true
   },
   "source": [
    "## USGS observed streamflow data"
   ]
  },
  {
   "cell_type": "code",
   "execution_count": 7,
   "id": "74210347",
   "metadata": {},
   "outputs": [
    {
     "data": {
      "text/plain": [
       "'\\nA function to download and process USGS observational hydrology data to return nested dictionary of pandas series fore each variable, for each location.\\n\\nArgs:\\n-- start_date (str, date, or datetime) [req]: the start date for which to grab USGS data\\n-- end_date (str, date, or datetime) [req]: the end date for which to grab USGS data\\n-- locations (dict) [req]: a dictionary (stationID/name:IDValue/latlong tuple) of locations to get USGS data for.\\n-- return_type (string) [opt]: string indicating which format to return data in. Default is \"dict\", which will return data in a nested dict format:\\n\\t\\t\\t\\t\\t\\t\\t{locationID1:{\\n\\t\\t\\t\\t\\t\\t\\t\\tvar1_name:pd.Series,\\n\\t\\t\\t\\t\\t\\t\\t\\tvar2_name:pd.Series,\\n\\t\\t\\t\\t\\t\\t\\t\\t...},\\n\\t\\t\\t\\t\\t\\t\\tlocationID2:{...},\\n\\t\\t\\t\\t\\t\\t\\t...\\n\\t\\t\\t\\t\\t\\t\\t}\\n\\t\\t\\t\\t\\t\\t\\tAlternative return type is \"dataframe\", which smashes all data into a single dataframe muliIndex\\'d by station ID, then timestamp\\n\\nReturns:\\nUSGS observed streamflow data for the given stations in the format specified by return_type\\n'"
      ]
     },
     "execution_count": 7,
     "metadata": {},
     "output_type": "execute_result"
    }
   ],
   "source": [
    "\"\"\"\n",
    "A function to download and process USGS observational hydrology data to return nested dictionary of pandas series fore each variable, for each location.\n",
    "\n",
    "Args:\n",
    "-- start_date (str, date, or datetime) [req]: the start date for which to grab USGS data\n",
    "-- end_date (str, date, or datetime) [req]: the end date for which to grab USGS data\n",
    "-- locations (dict) [req]: a dictionary (stationID/name:IDValue/latlong tuple) of locations to get USGS data for.\n",
    "-- return_type (string) [opt]: string indicating which format to return data in. Default is \"dict\", which will return data in a nested dict format:\n",
    "\t\t\t\t\t\t\t{locationID1:{\n",
    "\t\t\t\t\t\t\t\tvar1_name:pd.Series,\n",
    "\t\t\t\t\t\t\t\tvar2_name:pd.Series,\n",
    "\t\t\t\t\t\t\t\t...},\n",
    "\t\t\t\t\t\t\tlocationID2:{...},\n",
    "\t\t\t\t\t\t\t...\n",
    "\t\t\t\t\t\t\t}\n",
    "\t\t\t\t\t\t\tAlternative return type is \"dataframe\", which smashes all data into a single dataframe muliIndex'd by station ID, then timestamp\n",
    "\n",
    "Returns:\n",
    "USGS observed streamflow data for the given stations in the format specified by return_type\n",
    "\"\"\""
   ]
  },
  {
   "cell_type": "code",
   "execution_count": 8,
   "id": "5a0f5b22",
   "metadata": {},
   "outputs": [],
   "source": [
    "import data.usgs_ob as usgs\n",
    "import matplotlib.pyplot as plt"
   ]
  },
  {
   "cell_type": "code",
   "execution_count": 9,
   "id": "66d41c94",
   "metadata": {},
   "outputs": [],
   "source": [
    "# USGS site numbers can be found at:\n",
    "# https://maps.waterdata.usgs.gov/mapper/index.html\n",
    "usgs_stations = {\"Missisquoi River\":\"04294000\",\n",
    "\t\t\t\t \"Jewett Brook\":\"04292810\",\n",
    "            \t \"Mill River\":\"04292750\"}"
   ]
  },
  {
   "cell_type": "code",
   "execution_count": 10,
   "id": "b39fe331-60b4-468a-a29a-2c0cd11133a9",
   "metadata": {
    "jupyter": {
     "source_hidden": true
    },
    "scrolled": true
   },
   "outputs": [],
   "source": [
    "usgs_data = usgs.get_data(start_date = \"20240116\",\n",
    "\t\t\t\t\t\t  end_date = \"20240126\",\n",
    "\t\t\t\t\t\t  locations = usgs_stations)"
   ]
  },
  {
   "cell_type": "code",
   "execution_count": 42,
   "id": "6c211c74",
   "metadata": {},
   "outputs": [
    {
     "data": {
      "text/html": [
       "<div>\n",
       "<style scoped>\n",
       "    .dataframe tbody tr th:only-of-type {\n",
       "        vertical-align: middle;\n",
       "    }\n",
       "\n",
       "    .dataframe tbody tr th {\n",
       "        vertical-align: top;\n",
       "    }\n",
       "\n",
       "    .dataframe thead th {\n",
       "        text-align: right;\n",
       "    }\n",
       "</style>\n",
       "<table border=\"1\" class=\"dataframe\">\n",
       "  <thead>\n",
       "    <tr style=\"text-align: right;\">\n",
       "      <th></th>\n",
       "      <th>streamflow</th>\n",
       "    </tr>\n",
       "    <tr>\n",
       "      <th>time</th>\n",
       "      <th></th>\n",
       "    </tr>\n",
       "  </thead>\n",
       "  <tbody>\n",
       "    <tr>\n",
       "      <th>2024-01-16 06:30:00+00:00</th>\n",
       "      <td>58.898944</td>\n",
       "    </tr>\n",
       "    <tr>\n",
       "      <th>2024-01-16 08:30:00+00:00</th>\n",
       "      <td>57.483104</td>\n",
       "    </tr>\n",
       "    <tr>\n",
       "      <th>2024-01-16 10:30:00+00:00</th>\n",
       "      <td>55.217760</td>\n",
       "    </tr>\n",
       "    <tr>\n",
       "      <th>2024-01-16 12:30:00+00:00</th>\n",
       "      <td>54.085088</td>\n",
       "    </tr>\n",
       "    <tr>\n",
       "      <th>2024-01-16 14:30:00+00:00</th>\n",
       "      <td>52.952416</td>\n",
       "    </tr>\n",
       "    <tr>\n",
       "      <th>...</th>\n",
       "      <td>...</td>\n",
       "    </tr>\n",
       "    <tr>\n",
       "      <th>2024-01-23 13:45:00+00:00</th>\n",
       "      <td>41.342528</td>\n",
       "    </tr>\n",
       "    <tr>\n",
       "      <th>2024-01-23 14:00:00+00:00</th>\n",
       "      <td>41.908864</td>\n",
       "    </tr>\n",
       "    <tr>\n",
       "      <th>2024-01-23 14:15:00+00:00</th>\n",
       "      <td>41.908864</td>\n",
       "    </tr>\n",
       "    <tr>\n",
       "      <th>2024-01-23 14:30:00+00:00</th>\n",
       "      <td>41.908864</td>\n",
       "    </tr>\n",
       "    <tr>\n",
       "      <th>2024-01-23 14:45:00+00:00</th>\n",
       "      <td>43.041536</td>\n",
       "    </tr>\n",
       "  </tbody>\n",
       "</table>\n",
       "<p>588 rows × 1 columns</p>\n",
       "</div>"
      ],
      "text/plain": [
       "                           streamflow\n",
       "time                                 \n",
       "2024-01-16 06:30:00+00:00   58.898944\n",
       "2024-01-16 08:30:00+00:00   57.483104\n",
       "2024-01-16 10:30:00+00:00   55.217760\n",
       "2024-01-16 12:30:00+00:00   54.085088\n",
       "2024-01-16 14:30:00+00:00   52.952416\n",
       "...                               ...\n",
       "2024-01-23 13:45:00+00:00   41.342528\n",
       "2024-01-23 14:00:00+00:00   41.908864\n",
       "2024-01-23 14:15:00+00:00   41.908864\n",
       "2024-01-23 14:30:00+00:00   41.908864\n",
       "2024-01-23 14:45:00+00:00   43.041536\n",
       "\n",
       "[588 rows x 1 columns]"
      ]
     },
     "execution_count": 42,
     "metadata": {},
     "output_type": "execute_result"
    }
   ],
   "source": [
    "df = pd.DataFrame(usgs_data['Missisquoi River']['streamflow'].astype('float') * 0.0283168)\n",
    "# pd.options.display.max_rows = 60\n",
    "df"
   ]
  },
  {
   "cell_type": "code",
   "execution_count": 43,
   "id": "7c1f624a-22dd-4b95-b1a3-4c3ca8868318",
   "metadata": {},
   "outputs": [
    {
     "data": {
      "text/plain": [
       "[<matplotlib.lines.Line2D at 0x7f5f9b175f90>]"
      ]
     },
     "execution_count": 43,
     "metadata": {},
     "output_type": "execute_result"
    },
    {
     "data": {
      "text/plain": [
       "[<matplotlib.lines.Line2D at 0x7f5f9b1a5b50>]"
      ]
     },
     "execution_count": 43,
     "metadata": {},
     "output_type": "execute_result"
    },
    {
     "data": {
      "text/plain": [
       "(array([19738., 19739., 19740., 19741., 19742., 19743., 19744., 19745.,\n",
       "        19746., 19747., 19748.]),\n",
       " [Text(19738.0, 0, '2024-01-16'),\n",
       "  Text(19739.0, 0, '2024-01-17'),\n",
       "  Text(19740.0, 0, '2024-01-18'),\n",
       "  Text(19741.0, 0, '2024-01-19'),\n",
       "  Text(19742.0, 0, '2024-01-20'),\n",
       "  Text(19743.0, 0, '2024-01-21'),\n",
       "  Text(19744.0, 0, '2024-01-22'),\n",
       "  Text(19745.0, 0, '2024-01-23'),\n",
       "  Text(19746.0, 0, '2024-01-24'),\n",
       "  Text(19747.0, 0, '2024-01-25'),\n",
       "  Text(19748.0, 0, '2024-01-26')])"
      ]
     },
     "execution_count": 43,
     "metadata": {},
     "output_type": "execute_result"
    },
    {
     "data": {
      "text/plain": [
       "<matplotlib.legend.Legend at 0x7f5f9b1f28d0>"
      ]
     },
     "execution_count": 43,
     "metadata": {},
     "output_type": "execute_result"
    },
    {
     "data": {
      "image/png": "[encoded data removed]",
      "text/plain": [
       "<Figure size 640x480 with 1 Axes>"
      ]
     },
     "metadata": {},
     "output_type": "display_data"
    }
   ],
   "source": [
    "plt.plot(nwm_data['Missisquoi River']['streamflow'], label='NWM')\n",
    "# Convert from cubic ft/s (USGS) to cubic m/s (NWM)\n",
    "plt.plot(usgs_data['Missisquoi River']['streamflow'].astype('float') * 0.0283168, label='USGS')\n",
    "plt.xticks(rotation = 60)\n",
    "plt.legend()\n",
    "plt.show()"
   ]
  },
  {
   "cell_type": "markdown",
   "id": "31fe6e55",
   "metadata": {},
   "source": [
    "## GFS forecasted meterological data"
   ]
  },
  {
   "cell_type": "code",
   "execution_count": 13,
   "id": "57d1f56d",
   "metadata": {},
   "outputs": [
    {
     "data": {
      "text/plain": [
       "'\\nDownload specified GFS forecast data and return nested dictionary of pandas series fore each variable, for each location.\\n\\nArgs:\\n-- forecast_datetime (str, date, or datetime) [req]: the start date and time (00, 06, 12, 18) of the forecast to download. Times are assumed to be UTC time.\\n-- end_datetime (str, date, or datetime) [req]: the end date and time for the forecast. GFS forecasts 16-days out for a given start date.\\n-- locations (dict) [req]: a dictionary (stationID/name:IDValue/latlong tuple) of locations to download forecast data for.\\n-- data_dir (str) [opt]: directory to store donwloaded data. Defaults to OS\\'s default temp directory.\\n-- dwnld_threads (int) [opt]: number of threads to use for downloads. Default is half of OS\\'s available threads.\\n-- load_threads (int) [opt]: number of threads to use for reading data. Default is 2 for GFS, since file reads are already pretty fast.\\n-- return_type (string) [opt]: string indicating which format to return data in. Default is \"dict\", which will return data in a nested dict format:\\n\\t\\t\\t\\t\\t\\t\\t\\t{locationID1:{\\n\\t\\t\\t\\t\\t\\t\\t\\t\\tvar1_name:pd.Series,\\n\\t\\t\\t\\t\\t\\t\\t\\t\\tvar2_name:pd.Series,\\n\\t\\t\\t\\t\\t\\t\\t\\t\\t...},\\n\\t\\t\\t\\t\\t\\t\\t\\tlocationID2:{...},\\n\\t\\t\\t\\t\\t\\t\\t\\t...\\n\\t\\t\\t\\t\\t\\t\\t\\t}\\n\\t\\t\\t\\t\\t\\t\\t\\tAlternative return type is \"dataframe\", which smashes all data into a single dataframe muliIndex\\'d by station ID, then timestamp\\n\\nReturns:\\nGFS forecast data for the given locations in the format specified by return_type\\n'"
      ]
     },
     "execution_count": 13,
     "metadata": {},
     "output_type": "execute_result"
    }
   ],
   "source": [
    "\"\"\"\n",
    "Download specified GFS forecast data and return nested dictionary of pandas series fore each variable, for each location.\n",
    "\n",
    "Args:\n",
    "-- forecast_datetime (str, date, or datetime) [req]: the start date and time (00, 06, 12, 18) of the forecast to download. Times are assumed to be UTC time.\n",
    "-- end_datetime (str, date, or datetime) [req]: the end date and time for the forecast. GFS forecasts 16-days out for a given start date.\n",
    "-- locations (dict) [req]: a dictionary (stationID/name:IDValue/latlong tuple) of locations to download forecast data for.\n",
    "-- data_dir (str) [opt]: directory to store donwloaded data. Defaults to OS's default temp directory.\n",
    "-- dwnld_threads (int) [opt]: number of threads to use for downloads. Default is half of OS's available threads.\n",
    "-- load_threads (int) [opt]: number of threads to use for reading data. Default is 2 for GFS, since file reads are already pretty fast.\n",
    "-- return_type (string) [opt]: string indicating which format to return data in. Default is \"dict\", which will return data in a nested dict format:\n",
    "\t\t\t\t\t\t\t\t{locationID1:{\n",
    "\t\t\t\t\t\t\t\t\tvar1_name:pd.Series,\n",
    "\t\t\t\t\t\t\t\t\tvar2_name:pd.Series,\n",
    "\t\t\t\t\t\t\t\t\t...},\n",
    "\t\t\t\t\t\t\t\tlocationID2:{...},\n",
    "\t\t\t\t\t\t\t\t...\n",
    "\t\t\t\t\t\t\t\t}\n",
    "\t\t\t\t\t\t\t\tAlternative return type is \"dataframe\", which smashes all data into a single dataframe muliIndex'd by station ID, then timestamp\n",
    "\n",
    "Returns:\n",
    "GFS forecast data for the given locations in the format specified by return_type\n",
    "\"\"\""
   ]
  },
  {
   "cell_type": "code",
   "execution_count": 14,
   "id": "32f5bea4-9c56-469e-89fa-e31a0260aa75",
   "metadata": {
    "scrolled": true
   },
   "outputs": [],
   "source": [
    "import data.gfs_fc as gfs\n",
    "\n",
    "start_dt = dt.datetime(2024, 1, 16)\n",
    "# wothout an hour specified, will default to midnight forecast cycle\n",
    "# fc_start_dt = \"202401016\"\n",
    "\n",
    "# use the same hour as our start datetime, so that we get a full 10 days of fc data\n",
    "end_dt = dt.datetime(2024, 1, 17)\n",
    "\n",
    "# define some locations to grab data for. Dictionary value must be lat/long tuple, up to 0.25 resolution\n",
    "stations = {'401': (45.00, -73.25),\n",
    "\t\t\t'402': (44.75, -73.25),\n",
    "\t\t\t'403': (44.75, -73.25)}\n",
    "\n",
    "# define a directory in which to download NWM data\n",
    "data_directory = \"/data/users/n/b/nbeckage/forecastData/\""
   ]
  },
  {
   "cell_type": "code",
   "execution_count": 15,
   "id": "e4ea6f0c",
   "metadata": {},
   "outputs": [],
   "source": [
    "gfs_data = gfs.get_data(forecast_datetime = start_dt,\n",
    "\t\t\t\t\t\tend_datetime = end_dt,\n",
    "\t\t\t\t\t\tlocations = stations,\n",
    "\t\t\t\t\t\tdata_dir = data_directory)"
   ]
  },
  {
   "cell_type": "code",
   "execution_count": 16,
   "id": "3b8467c4",
   "metadata": {},
   "outputs": [
    {
     "data": {
      "text/plain": [
       "dict_keys(['TCDC', 'U10', 'V10', 'T2', 'RH2', 'RAIN', 'CPOFP', 'SWDOWN'])"
      ]
     },
     "execution_count": 16,
     "metadata": {},
     "output_type": "execute_result"
    }
   ],
   "source": [
    "# let's check out the meterological variables downloaded - hardcoded for now\n",
    "gfs_data['401'].keys()"
   ]
  },
  {
   "cell_type": "code",
   "execution_count": 17,
   "id": "c5d53de6",
   "metadata": {},
   "outputs": [
    {
     "data": {
      "text/plain": [
       "time\n",
       "2024-01-16 00:00:00+00:00    267.482666\n",
       "2024-01-16 01:00:00+00:00    267.232880\n",
       "2024-01-16 02:00:00+00:00    267.135468\n",
       "2024-01-16 03:00:00+00:00    267.127960\n",
       "2024-01-16 04:00:00+00:00    267.219299\n",
       "2024-01-16 05:00:00+00:00    267.204712\n",
       "2024-01-16 06:00:00+00:00    267.167084\n",
       "2024-01-16 07:00:00+00:00    267.300934\n",
       "2024-01-16 08:00:00+00:00    267.291199\n",
       "2024-01-16 09:00:00+00:00    267.134369\n",
       "2024-01-16 10:00:00+00:00    267.062469\n",
       "2024-01-16 11:00:00+00:00    267.353821\n",
       "2024-01-16 12:00:00+00:00    267.475952\n",
       "2024-01-16 13:00:00+00:00    267.600861\n",
       "2024-01-16 14:00:00+00:00    267.732391\n",
       "2024-01-16 15:00:00+00:00    267.863159\n",
       "2024-01-16 16:00:00+00:00    267.457001\n",
       "2024-01-16 17:00:00+00:00    267.074493\n",
       "2024-01-16 18:00:00+00:00    267.241241\n",
       "2024-01-16 19:00:00+00:00    267.419556\n",
       "2024-01-16 20:00:00+00:00    267.474640\n",
       "2024-01-16 21:00:00+00:00    267.489502\n",
       "2024-01-16 22:00:00+00:00    267.259338\n",
       "2024-01-16 23:00:00+00:00    267.110352\n",
       "2024-01-17 00:00:00+00:00    266.815247\n",
       "Name: T2, dtype: float64"
      ]
     },
     "execution_count": 17,
     "metadata": {},
     "output_type": "execute_result"
    }
   ],
   "source": [
    "gfs_data['401']['T2']"
   ]
  },
  {
   "cell_type": "markdown",
   "id": "54a962e0-b715-48ee-96d2-c7938d71c463",
   "metadata": {},
   "source": [
    "## Observed local climatological data from NOAA\n",
    "[NCEI Data Service API User Documentation](https://www.ncei.noaa.gov/support/access-data-service-api-user-documentation)\n",
    "\n",
    "Additional LCD station IDs can be found at: https://www.ncei.noaa.gov/cdo-web/datatools/lcd"
   ]
  },
  {
   "cell_type": "code",
   "execution_count": 18,
   "id": "3f52afe2",
   "metadata": {},
   "outputs": [
    {
     "data": {
      "text/plain": [
       "'\\nA function to download and process NOAA Local Climatological Data data to return nested dictionary of pandas series for each variable, for each location.\\n\\nArgs:\\n-- start_date (str, date, or datetime) [req]: the start date for which to grab LCD data\\n-- end_date (str, date, or datetime) [req]: the end date for which to grab LCD data\\n-- locations (dict) [req]: a dictionary (stationID/name:IDValue/latlong tuple) of locations to get USGS data for.\\n-- return_type (string) [opt]: string indicating which format to return data in. Default is \"dict\", which will return data in a nested dict format:\\n\\t\\t\\t\\t\\t\\t\\t\\t{locationID1:{\\n\\t\\t\\t\\t\\t\\t\\t\\t\\tvar1_name:pd.Series,\\n\\t\\t\\t\\t\\t\\t\\t\\t\\tvar2_name:pd.Series,\\n\\t\\t\\t\\t\\t\\t\\t\\t\\t...},\\n\\t\\t\\t\\t\\t\\t\\t\\tlocationID2:{...},\\n\\t\\t\\t\\t\\t\\t\\t\\t...\\n\\t\\t\\t\\t\\t\\t\\t\\t}\\n\\t\\t\\t\\t\\t\\t\\t\\tAlternative return type is \"dataframe\", which smashes all data into a single dataframe muliIndex\\'d by station ID, then timestamp\\n\\nReturns:\\nNOAA Local Climatological Data (total cloud cover and precipitation currently) for the dat range and locations provided\\n'"
      ]
     },
     "execution_count": 18,
     "metadata": {},
     "output_type": "execute_result"
    }
   ],
   "source": [
    "\"\"\"\n",
    "A function to download and process NOAA Local Climatological Data data to return nested dictionary of pandas series for each variable, for each location.\n",
    "\n",
    "Args:\n",
    "-- start_date (str, date, or datetime) [req]: the start date for which to grab LCD data\n",
    "-- end_date (str, date, or datetime) [req]: the end date for which to grab LCD data\n",
    "-- locations (dict) [req]: a dictionary (stationID/name:IDValue/latlong tuple) of locations to get USGS data for.\n",
    "-- return_type (string) [opt]: string indicating which format to return data in. Default is \"dict\", which will return data in a nested dict format:\n",
    "\t\t\t\t\t\t\t\t{locationID1:{\n",
    "\t\t\t\t\t\t\t\t\tvar1_name:pd.Series,\n",
    "\t\t\t\t\t\t\t\t\tvar2_name:pd.Series,\n",
    "\t\t\t\t\t\t\t\t\t...},\n",
    "\t\t\t\t\t\t\t\tlocationID2:{...},\n",
    "\t\t\t\t\t\t\t\t...\n",
    "\t\t\t\t\t\t\t\t}\n",
    "\t\t\t\t\t\t\t\tAlternative return type is \"dataframe\", which smashes all data into a single dataframe muliIndex'd by station ID, then timestamp\n",
    "\n",
    "Returns:\n",
    "NOAA Local Climatological Data (total cloud cover and precipitation currently) for the dat range and locations provided\n",
    "\"\"\""
   ]
  },
  {
   "cell_type": "code",
   "execution_count": 19,
   "id": "9ae1f125-a20f-42ce-8376-8e0247281b05",
   "metadata": {},
   "outputs": [],
   "source": [
    "import data.lcd_ob as lcd"
   ]
  },
  {
   "cell_type": "code",
   "execution_count": 20,
   "id": "01ac06ae-a2bd-4236-b0cd-3b22866b87dd",
   "metadata": {},
   "outputs": [],
   "source": [
    "lcd_data = lcd.get_data(start_date = start_dt,\n",
    "\t\t\t\t\t\tend_date = end_dt,\n",
    "\t\t\t\t\t\tlocations = {\"BTV\":\"72617014742\"})"
   ]
  },
  {
   "cell_type": "code",
   "execution_count": 21,
   "id": "a34989a9-55de-4d44-badc-922bdea33252",
   "metadata": {},
   "outputs": [
    {
     "data": {
      "text/plain": [
       "dict_keys(['TCDC', 'RAIN'])"
      ]
     },
     "execution_count": 21,
     "metadata": {},
     "output_type": "execute_result"
    }
   ],
   "source": [
    "# Local Climatological Dataset (LCD) only provides total cloud cover (%) and rain data\n",
    "lcd_data['BTV'].keys()"
   ]
  },
  {
   "cell_type": "code",
   "execution_count": 22,
   "id": "627081d1",
   "metadata": {},
   "outputs": [
    {
     "data": {
      "text/plain": [
       "time\n",
       "2024-01-16 05:54:00+00:00    0.00\n",
       "2024-01-16 06:54:00+00:00    0.00\n",
       "2024-01-16 07:54:00+00:00    0.00\n",
       "2024-01-16 08:54:00+00:00    0.50\n",
       "2024-01-16 09:54:00+00:00    1.00\n",
       "2024-01-16 10:54:00+00:00    1.00\n",
       "2024-01-16 11:54:00+00:00    1.00\n",
       "2024-01-16 12:54:00+00:00    1.00\n",
       "2024-01-16 13:37:00+00:00    1.00\n",
       "2024-01-16 13:54:00+00:00    1.00\n",
       "2024-01-16 14:54:00+00:00    1.00\n",
       "2024-01-16 15:17:00+00:00    1.00\n",
       "2024-01-16 15:54:00+00:00    1.00\n",
       "2024-01-16 16:12:00+00:00    1.00\n",
       "2024-01-16 16:22:00+00:00    1.00\n",
       "2024-01-16 16:54:00+00:00    1.00\n",
       "2024-01-16 17:25:00+00:00    1.00\n",
       "2024-01-16 17:30:00+00:00    1.00\n",
       "2024-01-16 17:40:00+00:00    1.00\n",
       "2024-01-16 17:46:00+00:00    1.00\n",
       "2024-01-16 17:54:00+00:00    1.00\n",
       "2024-01-16 18:02:00+00:00    1.00\n",
       "2024-01-16 18:15:00+00:00    1.00\n",
       "2024-01-16 18:21:00+00:00    1.00\n",
       "2024-01-16 18:42:00+00:00    1.00\n",
       "2024-01-16 18:54:00+00:00    1.00\n",
       "2024-01-16 19:54:00+00:00    1.00\n",
       "2024-01-16 20:13:00+00:00    1.00\n",
       "2024-01-16 20:36:00+00:00    1.00\n",
       "2024-01-16 20:45:00+00:00    1.00\n",
       "2024-01-16 20:54:00+00:00    1.00\n",
       "2024-01-16 21:11:00+00:00    1.00\n",
       "2024-01-16 21:28:00+00:00    1.00\n",
       "2024-01-16 21:54:00+00:00    1.00\n",
       "2024-01-16 22:42:00+00:00    1.00\n",
       "2024-01-16 22:54:00+00:00    1.00\n",
       "2024-01-16 23:07:00+00:00    1.00\n",
       "2024-01-16 23:16:00+00:00    1.00\n",
       "2024-01-16 23:37:00+00:00    1.00\n",
       "2024-01-16 23:44:00+00:00    1.00\n",
       "2024-01-16 23:54:00+00:00    1.00\n",
       "2024-01-17 00:16:00+00:00    1.00\n",
       "2024-01-17 00:25:00+00:00    1.00\n",
       "2024-01-17 00:35:00+00:00    1.00\n",
       "2024-01-17 00:54:00+00:00    1.00\n",
       "2024-01-17 01:05:00+00:00    1.00\n",
       "2024-01-17 01:38:00+00:00    0.25\n",
       "2024-01-17 01:48:00+00:00    0.50\n",
       "2024-01-17 01:54:00+00:00    0.50\n",
       "2024-01-17 02:09:00+00:00    1.00\n",
       "2024-01-17 02:54:00+00:00    1.00\n",
       "2024-01-17 03:26:00+00:00    1.00\n",
       "2024-01-17 03:54:00+00:00    1.00\n",
       "2024-01-17 04:54:00+00:00    1.00\n",
       "2024-01-17 05:07:00+00:00    1.00\n",
       "2024-01-17 05:54:00+00:00    1.00\n",
       "2024-01-17 06:28:00+00:00    1.00\n",
       "2024-01-17 06:54:00+00:00    1.00\n",
       "Name: TCDC, dtype: float64"
      ]
     },
     "execution_count": 22,
     "metadata": {},
     "output_type": "execute_result"
    }
   ],
   "source": [
    "lcd_data['BTV']['TCDC']"
   ]
  },
  {
   "cell_type": "markdown",
   "id": "f9d2ab6b",
   "metadata": {},
   "source": [
    "## Observed meterology data from UVM Forest Ecosystem Monitoring Cooperative (FEMC)\n",
    "Right now can be used to get Colchester reef quality-controlled met data"
   ]
  },
  {
   "cell_type": "code",
   "execution_count": 23,
   "id": "e5b5da97",
   "metadata": {},
   "outputs": [
    {
     "data": {
      "text/plain": [
       "'\\nA function to download and process observational meterological data from UVM FEMC (Forest Ecosysytem Monitoring Cooperative - https://www.uvm.edu/femc/) to return nested dictionary of pandas series for each variable, for each location.\\n\\nArgs:\\n-- start_date (str, date, or datetime) [req]: the start date for which to grab FEMC data\\n-- end_date (str, date, or datetime) [req]: the end date for which to grab FEMC data\\n-- locations (dict) [req]: a dictionary (stationID/name:IDValue/latlong tuple) of locations to get FEMC data for.\\n-- return_type (string) [opt]: string indicating which format to return data in. Default is \"dict\", which will return data in a nested dict format:\\n\\t\\t\\t\\t\\t\\t\\t\\t{locationID1:{\\n\\t\\t\\t\\t\\t\\t\\t\\t\\tvar1_name:pd.Series,\\n\\t\\t\\t\\t\\t\\t\\t\\t\\tvar2_name:pd.Series,\\n\\t\\t\\t\\t\\t\\t\\t\\t\\t...},\\n\\t\\t\\t\\t\\t\\t\\t\\tlocationID2:{...},\\n\\t\\t\\t\\t\\t\\t\\t\\t...\\n\\t\\t\\t\\t\\t\\t\\t\\t}\\n\\t\\t\\t\\t\\t\\t\\t\\tAlternative return type is \"dataframe\", which smashes all data into a single dataframe muliIndex\\'d by station ID, then timestamp\\n\\nReturns:\\nFEMC obsrvational meterological data for the specifed data range and locations, in the format specified by return_type\\n'"
      ]
     },
     "execution_count": 23,
     "metadata": {},
     "output_type": "execute_result"
    }
   ],
   "source": [
    "\"\"\"\n",
    "A function to download and process observational meterological data from UVM FEMC (Forest Ecosysytem Monitoring Cooperative - https://www.uvm.edu/femc/) to return nested dictionary of pandas series for each variable, for each location.\n",
    "\n",
    "Args:\n",
    "-- start_date (str, date, or datetime) [req]: the start date for which to grab FEMC data\n",
    "-- end_date (str, date, or datetime) [req]: the end date for which to grab FEMC data\n",
    "-- locations (dict) [req]: a dictionary (stationID/name:IDValue/latlong tuple) of locations to get FEMC data for.\n",
    "-- return_type (string) [opt]: string indicating which format to return data in. Default is \"dict\", which will return data in a nested dict format:\n",
    "\t\t\t\t\t\t\t\t{locationID1:{\n",
    "\t\t\t\t\t\t\t\t\tvar1_name:pd.Series,\n",
    "\t\t\t\t\t\t\t\t\tvar2_name:pd.Series,\n",
    "\t\t\t\t\t\t\t\t\t...},\n",
    "\t\t\t\t\t\t\t\tlocationID2:{...},\n",
    "\t\t\t\t\t\t\t\t...\n",
    "\t\t\t\t\t\t\t\t}\n",
    "\t\t\t\t\t\t\t\tAlternative return type is \"dataframe\", which smashes all data into a single dataframe muliIndex'd by station ID, then timestamp\n",
    "\n",
    "Returns:\n",
    "FEMC obsrvational meterological data for the specifed data range and locations, in the format specified by return_type\n",
    "\"\"\""
   ]
  },
  {
   "cell_type": "code",
   "execution_count": 24,
   "id": "9c3bedef",
   "metadata": {},
   "outputs": [],
   "source": [
    "import data.femc_ob as femc"
   ]
  },
  {
   "cell_type": "code",
   "execution_count": 25,
   "id": "0f8991f2",
   "metadata": {},
   "outputs": [],
   "source": [
    "femc_data = femc.get_data(start_date = start_dt,\n",
    "\t\t\t\t\t\t  end_date = end_dt)"
   ]
  },
  {
   "cell_type": "code",
   "execution_count": 26,
   "id": "cf6e82f5",
   "metadata": {},
   "outputs": [
    {
     "data": {
      "text/plain": [
       "dict_keys(['T2', 'SWDOWN', 'RH2', 'WSPEED', 'WDIR'])"
      ]
     },
     "execution_count": 26,
     "metadata": {},
     "output_type": "execute_result"
    }
   ],
   "source": [
    "# taking a lok at what meterological vars we have\n",
    "femc_data['CR'].keys()"
   ]
  },
  {
   "cell_type": "code",
   "execution_count": 27,
   "id": "163cb3de",
   "metadata": {},
   "outputs": [
    {
     "data": {
      "text/plain": [
       "time\n",
       "2024-01-16 05:15:00+00:00   -5.421\n",
       "2024-01-16 05:30:00+00:00   -5.308\n",
       "2024-01-16 05:45:00+00:00   -5.251\n",
       "2024-01-16 06:00:00+00:00   -5.131\n",
       "2024-01-16 06:15:00+00:00   -5.264\n",
       "                             ...  \n",
       "2024-01-17 03:45:00+00:00   -6.450\n",
       "2024-01-17 04:00:00+00:00   -6.590\n",
       "2024-01-17 04:15:00+00:00   -6.579\n",
       "2024-01-17 04:30:00+00:00   -6.532\n",
       "2024-01-17 04:45:00+00:00   -6.319\n",
       "Name: T2, Length: 95, dtype: float64"
      ]
     },
     "execution_count": 27,
     "metadata": {},
     "output_type": "execute_result"
    }
   ],
   "source": [
    "femc_data['CR']['T2']"
   ]
  },
  {
   "cell_type": "code",
   "execution_count": null,
   "id": "a6ee8483",
   "metadata": {},
   "outputs": [],
   "source": []
  }
 ],
 "metadata": {
  "kernelspec": {
   "display_name": "forecast",
   "language": "python",
   "name": "python3"
  },
  "language_info": {
   "codemirror_mode": {
    "name": "ipython",
    "version": 3
   },
   "file_extension": ".py",
   "mimetype": "text/x-python",
   "name": "python",
   "nbconvert_exporter": "python",
   "pygments_lexer": "ipython3",
   "version": "3.11.5"
  }
 },
 "nbformat": 4,
 "nbformat_minor": 5
}
