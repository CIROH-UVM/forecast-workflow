{
 "cells": [
  {
   "cell_type": "markdown",
   "id": "9b0dd121",
   "metadata": {},
   "source": [
    "# `get_data()` Demo Notebook from `CIROH-UVM/forecast-workflow`"
   ]
  },
  {
   "cell_type": "markdown",
   "id": "8b941ce6",
   "metadata": {},
   "source": [
    "## Setup\n",
    "1. Clone the [forecast-workflow repository](https://github.com/CIROH-UVM/forecast-workflow/tree/main) to your user space on the testbed\n",
    "2. Launch Jupyter Lab and select the kernel called \"forecast\"\n",
    "3. Add the path to your cloned repo to you Python path by running the cell below (only run once per notebook)"
   ]
  },
  {
   "cell_type": "code",
   "execution_count": null,
   "id": "08f75820-a8a1-4a3a-9929-2f70757a905c",
   "metadata": {},
   "outputs": [],
   "source": [
    "# import sys\n",
    "# sys.path.append('/your/path/to/forecast-workflow')"
   ]
  },
  {
   "cell_type": "markdown",
   "id": "01cc2623",
   "metadata": {},
   "source": [
    "## NWM forecasted streamflow data"
   ]
  },
  {
   "cell_type": "code",
   "execution_count": null,
   "id": "ef3c2125",
   "metadata": {},
   "outputs": [],
   "source": [
    "'''\n",
    "A function to download and process NWM hydrology forecast data to return nested dictionary of pandas series for each variable, for each location.\n",
    "\n",
    "Args:\n",
    "-- start_date: The start date for which to retrieve data.\n",
    "-- end_date: The end date for which to retrieve data.\n",
    "-- member: The member type of NWM forecast to get (medium_range_mem1, long_range_mem3, short_range, etc).\n",
    "-- locations: A dictionary or list of locations to pull out of the forecast files. When a dict is passed in the format {\"user-name\":\"gauge_ID\"},\n",
    "\tthen the function will use those user-defined names when returning data. Otherwise, default location IDs found in the dataset are used.\n",
    "-- variables: A dictionary or list of variables to pull out of the 'channel_rt' forecast files. When a dictionary is passed in the format (\"user-name\":\"variable-name\"),\n",
    "\tthen the function will use those user-defined names when returning data. Otherwise, default variable names found in the dataset are used. \n",
    "-- reference_date: The forecast reference time, i.e., the date and time at which \n",
    "\tthe forecast was initialized. Defaults to start_date if None.\n",
    "-- data_dir: Directory to store downloaded data. Defaults to OS's default temp directory.\n",
    "-- format: The format in which to return the data. Default is 'dictionary', which returns a nested dictionary of pandas series. Other valid option is 'xarray', which returns an xarray dataset.\n",
    "-- gcs: Flag determining whether or not to use Google buckets for NWM download as opposed to NOMADs site. Default is True.\n",
    "-- end_date_exclusive: Whether to exclude the end date from the time series. Defaults to True.\n",
    "-- dwnld_threads: Number of threads to use for downloads. Default is half of OS's available threads.\n",
    "-- load_threads: Number of threads to use for reading data. Default is half of OS's available threads.\n",
    "\n",
    "Returns:\n",
    "NWM timeseries for the given locations in a nested dict format where 1st-level keys are user-provided location names and 2nd-level keys\n",
    "are variable names and values are the respective data in a Pandas Series object, or an xarray Dataset if format='xarray'.\n",
    "'''"
   ]
  },
  {
   "cell_type": "code",
   "execution_count": null,
   "id": "52c1d4d0-8595-4cde-bb53-9550ef55133a",
   "metadata": {
    "scrolled": true
   },
   "outputs": [],
   "source": [
    "import data.nwm_fc as nwm\n",
    "import datetime as dt\n",
    "import pandas as pd\n",
    "\n",
    "fc_start_dt = dt.datetime(2024, 1, 16, 6)\n",
    "# without an hour specified, will default to midnight forecast cycle\n",
    "# fc_start_dt = \"202401016\"\n",
    "\n",
    "# use the same hour as our start datetime, so that we get a full 10 days of fc data\n",
    "fc_end_dt = dt.datetime(2024, 1, 26, 6)\n",
    "\n",
    "# define some locations to grab data for. Reach IDs for the NWM can be found at: \n",
    "# https://water.noaa.gov/map\n",
    "reaches =  {\"Missisquoi River\":\"166176984\",\n",
    "\t\t\t\"Jewett Brook\":\"4587092\",\n",
    "            \"Mill River\":\"4587100\"}\n",
    "\n",
    "fc_type = \"medium_range_mem1\"\n",
    "\n",
    "# define a directory in which to download NWM data\n",
    "# this specifc directroy hosts a large swath of NWM and GFS data used collectively by CIROH researchers\n",
    "data_directory = \"/netfiles/ciroh/downloadedData/\""
   ]
  },
  {
   "cell_type": "code",
   "execution_count": null,
   "id": "296fab2c",
   "metadata": {},
   "outputs": [],
   "source": [
    "nwm_data = nwm.get_data(start_date=fc_start_dt,\n",
    "\t\t\t\t\t\tend_date=fc_end_dt,\n",
    "\t\t\t\t\t\tmember=fc_type,\n",
    "\t\t\t\t\t\tlocations=reaches,\n",
    "\t\t\t\t\t\tdata_dir=data_directory,\n",
    "\t\t\t\t\t\tvariables={'discharge':'streamflow'},\n",
    "\t\t\t\t\t\tformat='dictionary',\n",
    "      \t\t\t\t\tend_date_exclusive=False) # by default, the end date is excluded from the time series"
   ]
  },
  {
   "cell_type": "code",
   "execution_count": null,
   "id": "4382e2ef-8165-4062-9614-bd5e5d923d09",
   "metadata": {},
   "outputs": [],
   "source": [
    "nwm_data"
   ]
  },
  {
   "cell_type": "code",
   "execution_count": null,
   "id": "7b1ded11",
   "metadata": {},
   "outputs": [],
   "source": [
    "pd.DataFrame(nwm_data['Missisquoi River']['discharge'])"
   ]
  },
  {
   "cell_type": "markdown",
   "id": "10682ed8",
   "metadata": {},
   "source": [
    "## NWM Forcings Data"
   ]
  },
  {
   "cell_type": "code",
   "execution_count": null,
   "id": "f17fc480",
   "metadata": {},
   "outputs": [],
   "source": [
    "import data.nwm_forcings_fc as nwm_forcings\n",
    "\n",
    "'''\n",
    "A function to download and process NWM forcings data.\n",
    "\n",
    "Args:\n",
    "-- start_date: The start date for which to retrieve data.\n",
    "-- end_date: The end date for which to retrieve data.\n",
    "-- member: The NWM forecast member for which you to get forcings for (Currently accepts 'medium_range', 'short_range', 'analysis_assim', and 'analysis_assim_extend').\t-- locations: A dictionary containing either bounding box information or a list of points to extract from the gridded forcings dataset. Default value of None does not spatially subset the data. See validate_locations() for more details.\n",
    "\tNote that the bounding box must be in latitude, longitude (WGS 1984), but the dataset is NOT reprojected and will maintain its orginal CRS.\n",
    "-- locations: A dictionary containing either bounding box information or a dict of points to extract from the gridded forcings dataset. Default value of None does not spatially subset the data. See validate_locations() for more details.\n",
    "\tNote that the bounding box must be in latitude, longitude (WGS 1984), but the dataset is NOT reprojected and will maintain its orginal CRS.\n",
    "-- variables: A dictionary or list of variables to pull out of the forcing files. When a dictionary is passed in the format {\"user-name\":\"variable-name\"}, the function will use those user-defined names when returning data. Otherwise, the variable names found in the dataset are used. Default value 'all' keeps all variables\n",
    "-- reference_date: The forecast reference time, i.e., the date and time at which \n",
    "\tthe forecast for which you want forcings for was initialized. Defaults to start_date if None.\n",
    "-- data_dir: Directory to store downloaded data. Defaults to OS's default temp directory.\n",
    "-- end_date_exclusive: Whether to exclude the end date from the time series. Defaults to True.\n",
    "-- dwnld_threads: Number of threads to use for downloads. Default is half of OS's available threads.\n",
    "\n",
    "Returns:\n",
    "xr.Dataset or dict: If locations is None or a bounding box, returns an xarray.Dataset. If locations specifies points, returns a nested dictionary where 1st-level keys are points, 2nd-level keys are variables, and 2nd-level values are pandas.Series\n",
    "'''"
   ]
  },
  {
   "cell_type": "code",
   "execution_count": null,
   "id": "06a24a93",
   "metadata": {},
   "outputs": [],
   "source": [
    "# The NWM Forcings data getter is unique in that it can return data in two formats: an xarray dataset or a nested dictionary of pandas series.\n",
    "# the format the data is returned in is determined by the nature of the locations argument passed in.\n",
    "\n",
    "# If locations is a bounding box, the data will be returned as an xarray dataset.\n",
    "boundary_box = {'bbox' : {'min_lat' : 42.34, 'max_lat' : 45.21, 'min_lon' : -75.89, 'max_lon' : -72.68}}\n",
    "# If locations is a dictionary of labelled points, the data will be returned as a nested dictionary\n",
    "labelled_points = {'points': {'01413088': (42.29380556, -74.5591944),\n",
    "                        \t  '01413398': (42.1508333, -74.60138889)}}"
   ]
  },
  {
   "cell_type": "code",
   "execution_count": null,
   "id": "ca17b3a7",
   "metadata": {},
   "outputs": [],
   "source": [
    "forcings_data = nwm_forcings.get_data(start_date=fc_start_dt,\n",
    "\t\t\t\t\t\t\t\t\t end_date=fc_end_dt,\n",
    "\t\t\t\t\t\t\t\t\t member=\"medium_range\",\n",
    "\t\t\t\t\t\t\t\t\t locations=boundary_box,  # or labelled_points\n",
    "\t\t\t\t\t\t\t\t\t variables='all',\n",
    "\t\t\t\t\t\t\t\t\t data_dir=data_directory,\n",
    "          \t\t\t\t\t\t\t end_date_exclusive=True) # by default, the end date is excluded from the time series"
   ]
  },
  {
   "cell_type": "code",
   "execution_count": null,
   "id": "a51de5c8",
   "metadata": {},
   "outputs": [],
   "source": [
    "# Note that since we passed in a boundary box, the data is returned as an xarray dataset.\n",
    "# if we passed in a dictionary of labelled points, the data would be returned as a nested dictionary of pandas series.\n",
    "# the later method is not recommended for large datasets, as it can be very memory intensive and take a long time to execute\n",
    "forcings_data"
   ]
  },
  {
   "cell_type": "markdown",
   "id": "13c484b8-f7e2-4502-85f5-4e367938acaf",
   "metadata": {
    "scrolled": true
   },
   "source": [
    "## USGS observed streamflow data"
   ]
  },
  {
   "cell_type": "code",
   "execution_count": null,
   "id": "74210347",
   "metadata": {
    "scrolled": true
   },
   "outputs": [],
   "source": [
    "\"\"\"\n",
    "A function to download and process USGS observational hydrology data to return nested dictionary of pandas series fore each variable, for each location.\n",
    "\n",
    "Args:\n",
    "-- start_date (str, date, or datetime) [req]: the start date for which to grab USGS data\n",
    "-- end_date (str, date, or datetime) [req]: the end date for which to grab USGS data\n",
    "-- locations (dict) [req]: a dictionary (stationID/name:IDValue/latlong tuple) of locations to get USGS data for.\n",
    "-- variables (dict) [req]: a dictionary of variables to download, where keys are user-defined variable names and values are dataset-specific variable names.\n",
    "-- service (str) [opt]: what USGS service to get data from. Default is instanteous values service. For more options, see https://waterservices.usgs.gov/docs/\n",
    "\n",
    "Returns:\n",
    "USGS observed streamflow data for the given stations in a nested dict format where 1st-level keys are user-provided location names and 2nd-level keys\n",
    "are variables names and values are the respective data in a Pandas Series object.\n",
    "\"\"\""
   ]
  },
  {
   "cell_type": "code",
   "execution_count": null,
   "id": "5a0f5b22",
   "metadata": {},
   "outputs": [],
   "source": [
    "import data.usgs_ob as usgs\n",
    "import matplotlib.pyplot as plt"
   ]
  },
  {
   "cell_type": "code",
   "execution_count": null,
   "id": "66d41c94",
   "metadata": {},
   "outputs": [],
   "source": [
    "# USGS site numbers can be found at:\n",
    "# https://maps.waterdata.usgs.gov/mapper/index.html\n",
    "usgs_stations = {\"Missisquoi River\":\"04294000\",\n",
    "\t\t\t\t \"Jewett Brook\":\"04292810\",\n",
    "            \t \"Mill River\":\"04292750\"}"
   ]
  },
  {
   "cell_type": "code",
   "execution_count": null,
   "id": "b39fe331-60b4-468a-a29a-2c0cd11133a9",
   "metadata": {
    "scrolled": true
   },
   "outputs": [],
   "source": [
    "usgs_data = usgs.get_data(start_date = \"20240116\",\n",
    "\t\t\t\t\t\t  end_date = \"20240126\",\n",
    "\t\t\t\t\t\t  locations = usgs_stations)"
   ]
  },
  {
   "cell_type": "code",
   "execution_count": null,
   "id": "6c211c74",
   "metadata": {},
   "outputs": [],
   "source": [
    "df = pd.DataFrame(usgs_data['Missisquoi River']['streamflow'].astype('float') * 0.0283168)\n",
    "# pd.options.display.max_rows = 60\n",
    "df"
   ]
  },
  {
   "cell_type": "code",
   "execution_count": null,
   "id": "c01607a3",
   "metadata": {},
   "outputs": [],
   "source": [
    "nwm_data['Missisquoi River']"
   ]
  },
  {
   "cell_type": "code",
   "execution_count": null,
   "id": "7c1f624a-22dd-4b95-b1a3-4c3ca8868318",
   "metadata": {},
   "outputs": [],
   "source": [
    "plt.plot(nwm_data['Missisquoi River']['discharge'], label='NWM')\n",
    "# Convert from cubic ft/s (USGS) to cubic m/s (NWM)\n",
    "plt.plot(usgs_data['Missisquoi River']['streamflow'].astype('float') * 0.0283168, label='USGS')\n",
    "plt.xticks(rotation = 15)\n",
    "plt.ylabel('Streamflow (m^3/s)')\n",
    "plt.grid()\n",
    "plt.legend()\n",
    "\n",
    "plt.show()"
   ]
  },
  {
   "cell_type": "markdown",
   "id": "31fe6e55",
   "metadata": {},
   "source": [
    "## GFS Forecasted Meterological Data\n",
    "\n",
    "In the `forecast-workflow` repository, there are two modules for accessing GFS data, `gfs_fc.py` and `gfs_fc_thredds.py`. The former acessess data from the NOAA Operational Model Archive and Distribution System, or [NOMADS](https://nomads.ncep.noaa.gov/gribfilter.php?ds=gfs_0p25), the later accesses data from the [NCAR THREDDS Research Data Archive](https://thredds.rda.ucar.edu/thredds/catalog/catalog_d084001.html). NOMADS only contains the GFS Data from the last 10 days, while the THREDDS server has GFS data going back to 2015. In this demo, we'll use the THREDDS module to access GFS"
   ]
  },
  {
   "cell_type": "code",
   "execution_count": null,
   "id": "57d1f56d",
   "metadata": {},
   "outputs": [],
   "source": [
    "\"\"\"\n",
    "Download specified GFS forecast data and return nested dictionary of pandas series fore each variable, for each location.\n",
    "\n",
    "Args:\n",
    "-- forecast_datetime (str, date, or datetime) [req]: the start date and time (00, 06, 12, 18) of the forecast to download. Times are assumed to be UTC time.\n",
    "-- end_datetime (str, date, or datetime) [req]: the end date and time for the forecast. GFS forecasts 16-days out for a given start date.\n",
    "-- locations (dict) [req]: a dictionary (stationID/name:IDValue/latlong tuple) of locations to download forecast data for.\n",
    "-- data_dir (str) [opt]: directory to store donwloaded data. Defaults to OS's default temp directory.\n",
    "-- dwnld_threads (int) [opt]: number of threads to use for downloads. Default is half of OS's available threads.\n",
    "-- load_threads (int) [opt]: number of threads to use for reading data. Default is 2 for GFS, since file reads are already pretty fast.\n",
    "-- useTCDCInstant (bool) [opt]: wether to use instantaneous var for cloud cover or rolling average value.\n",
    "\n",
    "Returns:\n",
    "GFS forecast data for the given locations in a nested dict format where 1st-level keys are user-provided location names and 2nd-level keys\n",
    "are variables names and values are the respective data in a Pandas Series object.\n",
    "\"\"\""
   ]
  },
  {
   "cell_type": "code",
   "execution_count": null,
   "id": "32f5bea4-9c56-469e-89fa-e31a0260aa75",
   "metadata": {
    "scrolled": true
   },
   "outputs": [],
   "source": [
    "import data.gfs_fc_thredds as gfs\n",
    "\n",
    "start_dt = dt.datetime(2023, 7, 1)\n",
    "# wothout an hour specified, will default to midnight forecast cycle\n",
    "# fc_start_dt = \"202401016\"\n",
    "\n",
    "# use the same hour as our start datetime, so that we get a full 10 days of fc data\n",
    "end_dt = dt.datetime(2023, 7, 2)\n",
    "\n",
    "# define some locations to grab data for. Dictionary value must be lat/long tuple, up to 0.25 resolution\n",
    "stations = {'401': (45.00, -73.25),\n",
    "\t\t\t'402': (44.75, -73.25),\n",
    "\t\t\t'403': (44.75, -73.25)}\n",
    "\n",
    "# define a directory in which to download NWM data\n",
    "data_directory = \"/netfiles/ciroh/downloadedData/\""
   ]
  },
  {
   "cell_type": "code",
   "execution_count": null,
   "id": "e4ea6f0c",
   "metadata": {},
   "outputs": [],
   "source": [
    "gfs_data = gfs.get_data(forecast_datetime = start_dt,\n",
    "\t\t\t\t\t\tend_datetime = end_dt,\n",
    "\t\t\t\t\t\tlocations = stations,\n",
    "\t\t\t\t\t\tdata_dir = data_directory)"
   ]
  },
  {
   "cell_type": "code",
   "execution_count": null,
   "id": "3b8467c4",
   "metadata": {},
   "outputs": [],
   "source": [
    "# let's check out the meterological variables downloaded - hardcoded for now\n",
    "gfs_data['401'].keys()"
   ]
  },
  {
   "cell_type": "code",
   "execution_count": null,
   "id": "c5d53de6",
   "metadata": {},
   "outputs": [],
   "source": [
    "gfs_data['401']['T2']"
   ]
  },
  {
   "cell_type": "markdown",
   "id": "54a962e0-b715-48ee-96d2-c7938d71c463",
   "metadata": {},
   "source": [
    "## Observed local climatological data from NOAA\n",
    "[NCEI Data Service API User Documentation](https://www.ncei.noaa.gov/support/access-data-service-api-user-documentation)\n",
    "\n",
    "Additional LCD station IDs can be found at: https://www.ncei.noaa.gov/cdo-web/datatools/lcd"
   ]
  },
  {
   "cell_type": "code",
   "execution_count": null,
   "id": "3f52afe2",
   "metadata": {},
   "outputs": [],
   "source": [
    "\"\"\"\n",
    "A function to download and process NOAA Local Climatological Data data to return nested dictionary of pandas series for each variable, for each location.\n",
    "\n",
    "Args:\n",
    "-- start_date (str, date, or datetime) [req]: the start date for which to grab LCD data.\n",
    "-- end_date (str, date, or datetime) [req]: the end date for which to grab LCD data.\n",
    "-- locations (dict) [req]: a dictionary (stationID/name:IDValue/latlong tuple) of locations to get data for.\n",
    "-- variables (dict) [req]: a dictionary of variables to download, where keys are user-defined variable names and values are LCD-specific variable names.\n",
    "\t\t\t\t\t\t\tCurrently only tested for variables listed in global var_units. \n",
    "-- units (str) [opt]: specifies unit convention for the data request. Options are 'standard' for standard US units, or 'metric' for metric units.\n",
    "\t\n",
    "Returns:\n",
    "NOAA Local Climatological Data timeseries for the given locations in a nested dict format where 1st-level keys are user-provided location names and 2nd-level keys\n",
    "are variables names and values are the respective data in a Pandas Series object.\n",
    "\"\"\""
   ]
  },
  {
   "cell_type": "code",
   "execution_count": null,
   "id": "9ae1f125-a20f-42ce-8376-8e0247281b05",
   "metadata": {},
   "outputs": [],
   "source": [
    "import data.lcd_ob as lcd"
   ]
  },
  {
   "cell_type": "code",
   "execution_count": null,
   "id": "08d974f0",
   "metadata": {},
   "outputs": [],
   "source": [
    "start = dt.datetime(2025, 7, 1)\n",
    "end = dt.datetime(2025, 7, 2)"
   ]
  },
  {
   "cell_type": "code",
   "execution_count": null,
   "id": "01ac06ae-a2bd-4236-b0cd-3b22866b87dd",
   "metadata": {},
   "outputs": [],
   "source": [
    "lcd_data = lcd.get_data(start_date = start,\n",
    "\t\t\t\t\t\tend_date = end,\n",
    "\t\t\t\t\t\tlocations = {\"BTV\":\"72617014742\"},\n",
    "      \t\t\t\t\tvariables={'preip':'HourlyPrecipitation',\n",
    "                      \t\t\t   'relhum':'HourlyRelativeHumidity'},\n",
    "           \t\t\t\tunits='metric')"
   ]
  },
  {
   "cell_type": "code",
   "execution_count": null,
   "id": "a34989a9-55de-4d44-badc-922bdea33252",
   "metadata": {},
   "outputs": [],
   "source": [
    "# Local Climatological Dataset (LCD) only provides total cloud cover (%) and rain data\n",
    "lcd_data['BTV'].keys()"
   ]
  },
  {
   "cell_type": "code",
   "execution_count": null,
   "id": "627081d1",
   "metadata": {},
   "outputs": [],
   "source": [
    "lcd_data['BTV']['TCDC']"
   ]
  },
  {
   "cell_type": "markdown",
   "id": "f9d2ab6b",
   "metadata": {},
   "source": [
    "## Observed meterology data from UVM Forest Ecosystem Monitoring Cooperative (FEMC)\n",
    "Right now can be used to get Colchester reef quality-controlled met data"
   ]
  },
  {
   "cell_type": "code",
   "execution_count": null,
   "id": "e5b5da97",
   "metadata": {},
   "outputs": [],
   "source": [
    "\"\"\"\n",
    "A function to download and process observational meterological data from UVM FEMC (Forest Ecosysytem Monitoring Cooperative - https://www.uvm.edu/femc/) to return nested dictionary of pandas series fore each variable, for each location.\n",
    "\n",
    "Args:\n",
    "-- start_date (str, date, or datetime) [req]: the start date for which to grab FEMC data\n",
    "-- end_date (str, date, or datetime) [req]: the end date for which to grab FEMC data\n",
    "-- locations (dict) [opt]: a dictionary (stationID/name:IDValue/latlong tuple) of locations to get FEMC data for.\n",
    "-- variables (dict) [opt]: a dictionary of variables to get; keys can be whatever you want to call the variables, but the values must be the variable abbreviations as seen in default dictionary\n",
    "\n",
    "Returns:\n",
    "FEMC obsrvational meterological data for the specifed data range and locations, in a nested dict format where 1st-level keys are user-provided location names and 2nd-level keys\n",
    "are variables names and values are the respective data in a Pandas Series object.\n",
    "\"\"\""
   ]
  },
  {
   "cell_type": "code",
   "execution_count": null,
   "id": "9c3bedef",
   "metadata": {},
   "outputs": [],
   "source": [
    "import data.femc_ob as femc\n",
    "\n",
    "start = dt.datetime(2021, 7, 1)\n",
    "end = dt.datetime(2021, 7, 5)"
   ]
  },
  {
   "cell_type": "code",
   "execution_count": null,
   "id": "0f8991f2",
   "metadata": {},
   "outputs": [],
   "source": [
    "femc_data = femc.get_data(start_date = start,\n",
    "\t\t\t\t\t\t  end_date = end)"
   ]
  },
  {
   "cell_type": "code",
   "execution_count": null,
   "id": "cf6e82f5",
   "metadata": {},
   "outputs": [],
   "source": [
    "# taking a look at what meterological vars we have\n",
    "femc_data['CR'].keys()"
   ]
  },
  {
   "cell_type": "code",
   "execution_count": null,
   "id": "163cb3de",
   "metadata": {},
   "outputs": [],
   "source": [
    "femc_data['CR']['T2']"
   ]
  }
 ],
 "metadata": {
  "kernelspec": {
   "display_name": "forecast",
   "language": "python",
   "name": "python3"
  },
  "language_info": {
   "codemirror_mode": {
    "name": "ipython",
    "version": 3
   },
   "file_extension": ".py",
   "mimetype": "text/x-python",
   "name": "python",
   "nbconvert_exporter": "python",
   "pygments_lexer": "ipython3",
   "version": "3.11.13"
  }
 },
 "nbformat": 4,
 "nbformat_minor": 5
}
